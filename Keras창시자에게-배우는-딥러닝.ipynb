{
 "cells": [
  {
   "cell_type": "markdown",
   "id": "0e700e2d",
   "metadata": {},
   "source": [
    "## * import *"
   ]
  },
  {
   "cell_type": "code",
   "execution_count": 1,
   "id": "81cbe390",
   "metadata": {
    "ExecuteTime": {
     "end_time": "2022-05-22T06:23:30.659557Z",
     "start_time": "2022-05-22T06:23:23.434676Z"
    }
   },
   "outputs": [
    {
     "data": {
      "text/plain": [
       "('2.8.0', '2.8.0')"
      ]
     },
     "execution_count": 1,
     "metadata": {},
     "output_type": "execute_result"
    }
   ],
   "source": [
    "# !pip install autopep8\n",
    "\n",
    "import tensorflow as tf\n",
    "from tensorflow import keras\n",
    "from keras.datasets import mnist\n",
    "from keras import models\n",
    "from keras import layers\n",
    "from tensorflow.keras.utils import to_categorical\n",
    "import matplotlib.pyplot as plt\n",
    "\n",
    "tf.__version__, keras.__version__"
   ]
  },
  {
   "cell_type": "markdown",
   "id": "6dc1e962",
   "metadata": {},
   "source": [
    "## mnist 간단한 지도학습 예제"
   ]
  },
  {
   "cell_type": "code",
   "execution_count": 39,
   "id": "a51de92e",
   "metadata": {
    "ExecuteTime": {
     "end_time": "2022-04-16T06:42:30.169927Z",
     "start_time": "2022-04-16T06:42:29.952415Z"
    }
   },
   "outputs": [],
   "source": [
    "from keras.datasets import mnist\n",
    "\n",
    "a = mnist.load_data()"
   ]
  },
  {
   "cell_type": "code",
   "execution_count": 40,
   "id": "091e6bad",
   "metadata": {
    "ExecuteTime": {
     "end_time": "2022-04-16T06:42:31.951438Z",
     "start_time": "2022-04-16T06:42:31.945437Z"
    }
   },
   "outputs": [
    {
     "data": {
      "text/plain": [
       "tuple"
      ]
     },
     "execution_count": 40,
     "metadata": {},
     "output_type": "execute_result"
    }
   ],
   "source": [
    "type(a)"
   ]
  },
  {
   "cell_type": "code",
   "execution_count": 9,
   "id": "a156ee1e",
   "metadata": {
    "ExecuteTime": {
     "end_time": "2022-04-07T14:21:41.727985Z",
     "start_time": "2022-04-07T14:21:41.723601Z"
    }
   },
   "outputs": [
    {
     "data": {
      "text/plain": [
       "<function tuple.count(value, /)>"
      ]
     },
     "execution_count": 9,
     "metadata": {},
     "output_type": "execute_result"
    }
   ],
   "source": [
    "a.count"
   ]
  },
  {
   "cell_type": "code",
   "execution_count": 25,
   "id": "1ab73604",
   "metadata": {
    "ExecuteTime": {
     "end_time": "2022-04-07T14:24:56.014154Z",
     "start_time": "2022-04-07T14:24:56.010279Z"
    }
   },
   "outputs": [
    {
     "data": {
      "text/plain": [
       "2"
      ]
     },
     "execution_count": 25,
     "metadata": {},
     "output_type": "execute_result"
    }
   ],
   "source": [
    "len(a)"
   ]
  },
  {
   "cell_type": "code",
   "execution_count": 32,
   "id": "e0ba6d37",
   "metadata": {
    "ExecuteTime": {
     "end_time": "2022-04-07T14:25:43.433939Z",
     "start_time": "2022-04-07T14:25:43.429578Z"
    }
   },
   "outputs": [
    {
     "data": {
      "text/plain": [
       "60000"
      ]
     },
     "execution_count": 32,
     "metadata": {},
     "output_type": "execute_result"
    }
   ],
   "source": [
    "len(a[0][0])"
   ]
  },
  {
   "cell_type": "code",
   "execution_count": 33,
   "id": "eea08be4",
   "metadata": {
    "ExecuteTime": {
     "end_time": "2022-04-07T14:26:19.328494Z",
     "start_time": "2022-04-07T14:26:19.326041Z"
    }
   },
   "outputs": [],
   "source": [
    "tup_a, tup_b = a"
   ]
  },
  {
   "cell_type": "code",
   "execution_count": 44,
   "id": "b852c17d",
   "metadata": {
    "ExecuteTime": {
     "end_time": "2022-04-07T14:27:37.933320Z",
     "start_time": "2022-04-07T14:27:37.929653Z"
    }
   },
   "outputs": [
    {
     "data": {
      "text/plain": [
       "10000"
      ]
     },
     "execution_count": 44,
     "metadata": {},
     "output_type": "execute_result"
    }
   ],
   "source": [
    "len(tup_b[0])"
   ]
  },
  {
   "cell_type": "code",
   "execution_count": 41,
   "id": "12dbcb77",
   "metadata": {
    "ExecuteTime": {
     "end_time": "2022-04-16T06:42:42.027073Z",
     "start_time": "2022-04-16T06:42:42.024439Z"
    }
   },
   "outputs": [],
   "source": [
    "(train_images, train_labels), (test_images, test_labels) = a"
   ]
  },
  {
   "cell_type": "code",
   "execution_count": 42,
   "id": "e36d2bb4",
   "metadata": {
    "ExecuteTime": {
     "end_time": "2022-04-16T06:42:42.620230Z",
     "start_time": "2022-04-16T06:42:42.614308Z"
    }
   },
   "outputs": [
    {
     "data": {
      "text/plain": [
       "60000"
      ]
     },
     "execution_count": 42,
     "metadata": {},
     "output_type": "execute_result"
    }
   ],
   "source": [
    "len(train_images)"
   ]
  },
  {
   "cell_type": "code",
   "execution_count": 43,
   "id": "c134b746",
   "metadata": {
    "ExecuteTime": {
     "end_time": "2022-04-16T06:42:45.251224Z",
     "start_time": "2022-04-16T06:42:45.245704Z"
    }
   },
   "outputs": [
    {
     "data": {
      "text/plain": [
       "(60000, 28, 28)"
      ]
     },
     "execution_count": 43,
     "metadata": {},
     "output_type": "execute_result"
    }
   ],
   "source": [
    "train_images.shape"
   ]
  },
  {
   "cell_type": "code",
   "execution_count": 8,
   "id": "bb0081d9",
   "metadata": {
    "ExecuteTime": {
     "end_time": "2022-04-16T06:25:00.904021Z",
     "start_time": "2022-04-16T06:25:00.893645Z"
    }
   },
   "outputs": [
    {
     "data": {
      "text/plain": [
       "array([[  0,   0,   0,   0,   0,   0,   0,   0,   0,   0,   0,   0,   0,\n",
       "          0,   0,   0,   0,   0,   0,   0,   0,   0,   0,   0,   0,   0,\n",
       "          0,   0],\n",
       "       [  0,   0,   0,   0,   0,   0,   0,   0,   0,   0,   0,   0,   0,\n",
       "          0,   0,   0,   0,   0,   0,   0,   0,   0,   0,   0,   0,   0,\n",
       "          0,   0],\n",
       "       [  0,   0,   0,   0,   0,   0,   0,   0,   0,   0,   0,   0,   0,\n",
       "          0,   0,   0,   0,   0,   0,   0,   0,   0,   0,   0,   0,   0,\n",
       "          0,   0],\n",
       "       [  0,   0,   0,   0,   0,   0,   0,   0,   0,   0,   0,   0,   0,\n",
       "          0,   0,   0,   0,   0,   0,   0,   0,   0,   0,   0,   0,   0,\n",
       "          0,   0],\n",
       "       [  0,   0,   0,   0,   0,   0,   0,   0,   0,   0,   0,   0,   0,\n",
       "          0,   0,   0,   0,   0,   0,   0,   0,   0,   0,   0,   0,   0,\n",
       "          0,   0],\n",
       "       [  0,   0,   0,   0,   0,   0,   0,   0,   0,   0,   0,   0,   3,\n",
       "         18,  18,  18, 126, 136, 175,  26, 166, 255, 247, 127,   0,   0,\n",
       "          0,   0],\n",
       "       [  0,   0,   0,   0,   0,   0,   0,   0,  30,  36,  94, 154, 170,\n",
       "        253, 253, 253, 253, 253, 225, 172, 253, 242, 195,  64,   0,   0,\n",
       "          0,   0],\n",
       "       [  0,   0,   0,   0,   0,   0,   0,  49, 238, 253, 253, 253, 253,\n",
       "        253, 253, 253, 253, 251,  93,  82,  82,  56,  39,   0,   0,   0,\n",
       "          0,   0],\n",
       "       [  0,   0,   0,   0,   0,   0,   0,  18, 219, 253, 253, 253, 253,\n",
       "        253, 198, 182, 247, 241,   0,   0,   0,   0,   0,   0,   0,   0,\n",
       "          0,   0],\n",
       "       [  0,   0,   0,   0,   0,   0,   0,   0,  80, 156, 107, 253, 253,\n",
       "        205,  11,   0,  43, 154,   0,   0,   0,   0,   0,   0,   0,   0,\n",
       "          0,   0],\n",
       "       [  0,   0,   0,   0,   0,   0,   0,   0,   0,  14,   1, 154, 253,\n",
       "         90,   0,   0,   0,   0,   0,   0,   0,   0,   0,   0,   0,   0,\n",
       "          0,   0],\n",
       "       [  0,   0,   0,   0,   0,   0,   0,   0,   0,   0,   0, 139, 253,\n",
       "        190,   2,   0,   0,   0,   0,   0,   0,   0,   0,   0,   0,   0,\n",
       "          0,   0],\n",
       "       [  0,   0,   0,   0,   0,   0,   0,   0,   0,   0,   0,  11, 190,\n",
       "        253,  70,   0,   0,   0,   0,   0,   0,   0,   0,   0,   0,   0,\n",
       "          0,   0],\n",
       "       [  0,   0,   0,   0,   0,   0,   0,   0,   0,   0,   0,   0,  35,\n",
       "        241, 225, 160, 108,   1,   0,   0,   0,   0,   0,   0,   0,   0,\n",
       "          0,   0],\n",
       "       [  0,   0,   0,   0,   0,   0,   0,   0,   0,   0,   0,   0,   0,\n",
       "         81, 240, 253, 253, 119,  25,   0,   0,   0,   0,   0,   0,   0,\n",
       "          0,   0],\n",
       "       [  0,   0,   0,   0,   0,   0,   0,   0,   0,   0,   0,   0,   0,\n",
       "          0,  45, 186, 253, 253, 150,  27,   0,   0,   0,   0,   0,   0,\n",
       "          0,   0],\n",
       "       [  0,   0,   0,   0,   0,   0,   0,   0,   0,   0,   0,   0,   0,\n",
       "          0,   0,  16,  93, 252, 253, 187,   0,   0,   0,   0,   0,   0,\n",
       "          0,   0],\n",
       "       [  0,   0,   0,   0,   0,   0,   0,   0,   0,   0,   0,   0,   0,\n",
       "          0,   0,   0,   0, 249, 253, 249,  64,   0,   0,   0,   0,   0,\n",
       "          0,   0],\n",
       "       [  0,   0,   0,   0,   0,   0,   0,   0,   0,   0,   0,   0,   0,\n",
       "          0,  46, 130, 183, 253, 253, 207,   2,   0,   0,   0,   0,   0,\n",
       "          0,   0],\n",
       "       [  0,   0,   0,   0,   0,   0,   0,   0,   0,   0,   0,   0,  39,\n",
       "        148, 229, 253, 253, 253, 250, 182,   0,   0,   0,   0,   0,   0,\n",
       "          0,   0],\n",
       "       [  0,   0,   0,   0,   0,   0,   0,   0,   0,   0,  24, 114, 221,\n",
       "        253, 253, 253, 253, 201,  78,   0,   0,   0,   0,   0,   0,   0,\n",
       "          0,   0],\n",
       "       [  0,   0,   0,   0,   0,   0,   0,   0,  23,  66, 213, 253, 253,\n",
       "        253, 253, 198,  81,   2,   0,   0,   0,   0,   0,   0,   0,   0,\n",
       "          0,   0],\n",
       "       [  0,   0,   0,   0,   0,   0,  18, 171, 219, 253, 253, 253, 253,\n",
       "        195,  80,   9,   0,   0,   0,   0,   0,   0,   0,   0,   0,   0,\n",
       "          0,   0],\n",
       "       [  0,   0,   0,   0,  55, 172, 226, 253, 253, 253, 253, 244, 133,\n",
       "         11,   0,   0,   0,   0,   0,   0,   0,   0,   0,   0,   0,   0,\n",
       "          0,   0],\n",
       "       [  0,   0,   0,   0, 136, 253, 253, 253, 212, 135, 132,  16,   0,\n",
       "          0,   0,   0,   0,   0,   0,   0,   0,   0,   0,   0,   0,   0,\n",
       "          0,   0],\n",
       "       [  0,   0,   0,   0,   0,   0,   0,   0,   0,   0,   0,   0,   0,\n",
       "          0,   0,   0,   0,   0,   0,   0,   0,   0,   0,   0,   0,   0,\n",
       "          0,   0],\n",
       "       [  0,   0,   0,   0,   0,   0,   0,   0,   0,   0,   0,   0,   0,\n",
       "          0,   0,   0,   0,   0,   0,   0,   0,   0,   0,   0,   0,   0,\n",
       "          0,   0],\n",
       "       [  0,   0,   0,   0,   0,   0,   0,   0,   0,   0,   0,   0,   0,\n",
       "          0,   0,   0,   0,   0,   0,   0,   0,   0,   0,   0,   0,   0,\n",
       "          0,   0]], dtype=uint8)"
      ]
     },
     "execution_count": 8,
     "metadata": {},
     "output_type": "execute_result"
    }
   ],
   "source": [
    "train_images[0]"
   ]
  },
  {
   "cell_type": "code",
   "execution_count": 9,
   "id": "f0920897",
   "metadata": {
    "ExecuteTime": {
     "end_time": "2022-04-16T06:25:04.298521Z",
     "start_time": "2022-04-16T06:25:04.293714Z"
    }
   },
   "outputs": [
    {
     "data": {
      "text/plain": [
       "60000"
      ]
     },
     "execution_count": 9,
     "metadata": {},
     "output_type": "execute_result"
    }
   ],
   "source": [
    "len(train_images)"
   ]
  },
  {
   "cell_type": "code",
   "execution_count": 45,
   "id": "e6656e9b",
   "metadata": {
    "ExecuteTime": {
     "end_time": "2022-04-16T06:43:04.704352Z",
     "start_time": "2022-04-16T06:43:04.696588Z"
    }
   },
   "outputs": [],
   "source": [
    "from keras import models\n",
    "from keras import layers\n",
    "\n",
    "network = models.Sequential()"
   ]
  },
  {
   "cell_type": "code",
   "execution_count": 46,
   "id": "9e7d1d24",
   "metadata": {
    "ExecuteTime": {
     "end_time": "2022-04-16T06:43:07.736869Z",
     "start_time": "2022-04-16T06:43:07.729294Z"
    }
   },
   "outputs": [],
   "source": [
    "network.add(layers.Dense(50, activation=\"relu\", ))\n",
    "network.add(layers.Dense(10, activation=\"softmax\" ))"
   ]
  },
  {
   "cell_type": "code",
   "execution_count": 47,
   "id": "cf88187a",
   "metadata": {
    "ExecuteTime": {
     "end_time": "2022-04-16T06:43:37.705709Z",
     "start_time": "2022-04-16T06:43:37.692540Z"
    }
   },
   "outputs": [],
   "source": [
    "network.compile(optimizer=\"rmsprop\",\n",
    "               loss=\"categorical_crossentropy\",\n",
    "               metrics=['accuracy'])"
   ]
  },
  {
   "cell_type": "code",
   "execution_count": 61,
   "id": "85ab48a4",
   "metadata": {
    "ExecuteTime": {
     "end_time": "2022-04-16T06:55:22.896019Z",
     "start_time": "2022-04-16T06:55:22.892451Z"
    }
   },
   "outputs": [
    {
     "data": {
      "text/plain": [
       "(60000, 784)"
      ]
     },
     "execution_count": 61,
     "metadata": {},
     "output_type": "execute_result"
    }
   ],
   "source": [
    "train_images.shape"
   ]
  },
  {
   "cell_type": "code",
   "execution_count": 62,
   "id": "cb643e2a",
   "metadata": {
    "ExecuteTime": {
     "end_time": "2022-04-16T06:55:26.905970Z",
     "start_time": "2022-04-16T06:55:26.902094Z"
    }
   },
   "outputs": [
    {
     "data": {
      "text/plain": [
       "dtype('uint8')"
      ]
     },
     "execution_count": 62,
     "metadata": {},
     "output_type": "execute_result"
    }
   ],
   "source": [
    "train_images.dtype"
   ]
  },
  {
   "cell_type": "code",
   "execution_count": 63,
   "id": "94d26cdd",
   "metadata": {
    "ExecuteTime": {
     "end_time": "2022-04-16T06:55:28.837141Z",
     "start_time": "2022-04-16T06:55:28.833147Z"
    }
   },
   "outputs": [
    {
     "data": {
      "text/plain": [
       "numpy.ndarray"
      ]
     },
     "execution_count": 63,
     "metadata": {},
     "output_type": "execute_result"
    }
   ],
   "source": [
    "type(train_images)"
   ]
  },
  {
   "cell_type": "code",
   "execution_count": 64,
   "id": "d49d1bde",
   "metadata": {
    "ExecuteTime": {
     "end_time": "2022-04-16T06:55:57.758819Z",
     "start_time": "2022-04-16T06:55:57.667650Z"
    }
   },
   "outputs": [
    {
     "data": {
      "text/plain": [
       "array([[0., 0., 0., ..., 0., 0., 0.],\n",
       "       [0., 0., 0., ..., 0., 0., 0.],\n",
       "       [0., 0., 0., ..., 0., 0., 0.],\n",
       "       ...,\n",
       "       [0., 0., 0., ..., 0., 0., 0.],\n",
       "       [0., 0., 0., ..., 0., 0., 0.],\n",
       "       [0., 0., 0., ..., 0., 0., 0.]], dtype=float32)"
      ]
     },
     "execution_count": 64,
     "metadata": {},
     "output_type": "execute_result"
    }
   ],
   "source": [
    "train_images = train_images.reshape((60000, 28 * 28))\n",
    "train_images.astype('float32') / 255"
   ]
  },
  {
   "cell_type": "code",
   "execution_count": 65,
   "id": "4fb53b8f",
   "metadata": {
    "ExecuteTime": {
     "end_time": "2022-04-16T06:56:02.086145Z",
     "start_time": "2022-04-16T06:56:02.080949Z"
    }
   },
   "outputs": [
    {
     "data": {
      "text/plain": [
       "(60000, 784)"
      ]
     },
     "execution_count": 65,
     "metadata": {},
     "output_type": "execute_result"
    }
   ],
   "source": [
    "train_images.shape"
   ]
  },
  {
   "cell_type": "code",
   "execution_count": 67,
   "id": "b6bbb69e",
   "metadata": {
    "ExecuteTime": {
     "end_time": "2022-04-16T06:56:39.993334Z",
     "start_time": "2022-04-16T06:56:39.977823Z"
    }
   },
   "outputs": [
    {
     "data": {
      "text/plain": [
       "array([[0., 0., 0., ..., 0., 0., 0.],\n",
       "       [0., 0., 0., ..., 0., 0., 0.],\n",
       "       [0., 0., 0., ..., 0., 0., 0.],\n",
       "       ...,\n",
       "       [0., 0., 0., ..., 0., 0., 0.],\n",
       "       [0., 0., 0., ..., 0., 0., 0.],\n",
       "       [0., 0., 0., ..., 0., 0., 0.]], dtype=float32)"
      ]
     },
     "execution_count": 67,
     "metadata": {},
     "output_type": "execute_result"
    }
   ],
   "source": [
    "test_images = test_images.reshape((10000, 28 * 28))\n",
    "test_images.astype('float32') / 255"
   ]
  },
  {
   "cell_type": "markdown",
   "id": "177b6268",
   "metadata": {},
   "source": [
    "### label 값 -> 범주형인코딩"
   ]
  },
  {
   "cell_type": "code",
   "execution_count": 52,
   "id": "d7630805",
   "metadata": {
    "ExecuteTime": {
     "end_time": "2022-04-16T06:43:54.586537Z",
     "start_time": "2022-04-16T06:43:54.577153Z"
    },
    "scrolled": true
   },
   "outputs": [
    {
     "data": {
      "text/plain": [
       "array([[0., 0., 0., ..., 0., 0., 0.],\n",
       "       [1., 0., 0., ..., 0., 0., 0.],\n",
       "       [0., 0., 0., ..., 0., 0., 0.],\n",
       "       ...,\n",
       "       [0., 0., 0., ..., 0., 0., 0.],\n",
       "       [0., 0., 0., ..., 0., 0., 0.],\n",
       "       [0., 0., 0., ..., 0., 1., 0.]], dtype=float32)"
      ]
     },
     "execution_count": 52,
     "metadata": {},
     "output_type": "execute_result"
    }
   ],
   "source": [
    "from tensorflow.keras.utils import to_categorical\n",
    "\n",
    "train_labels = to_categorical(train_labels)\n",
    "test_labels = to_categorical(test_labels)\n",
    "\n",
    "train_labels"
   ]
  },
  {
   "cell_type": "markdown",
   "id": "4c523f3d",
   "metadata": {},
   "source": [
    "### fit, 평가"
   ]
  },
  {
   "cell_type": "code",
   "execution_count": 68,
   "id": "c806bc36",
   "metadata": {
    "ExecuteTime": {
     "end_time": "2022-04-16T06:57:11.397865Z",
     "start_time": "2022-04-16T06:56:55.159387Z"
    }
   },
   "outputs": [
    {
     "name": "stdout",
     "output_type": "stream",
     "text": [
      "Epoch 1/5\n",
      "469/469 [==============================] - 4s 8ms/step - loss: 0.2876 - accuracy: 0.9383\n",
      "Epoch 2/5\n",
      "469/469 [==============================] - 3s 7ms/step - loss: 0.2569 - accuracy: 0.9412\n",
      "Epoch 3/5\n",
      "469/469 [==============================] - 3s 7ms/step - loss: 0.2374 - accuracy: 0.9454\n",
      "Epoch 4/5\n",
      "469/469 [==============================] - 3s 7ms/step - loss: 0.2259 - accuracy: 0.9483\n",
      "Epoch 5/5\n",
      "469/469 [==============================] - 3s 7ms/step - loss: 0.2126 - accuracy: 0.9513\n"
     ]
    },
    {
     "data": {
      "text/plain": [
       "<keras.callbacks.History at 0x28d9b7cd0>"
      ]
     },
     "execution_count": 68,
     "metadata": {},
     "output_type": "execute_result"
    }
   ],
   "source": [
    "network.fit(train_images, train_labels, batch_size=128, epochs=5 )"
   ]
  },
  {
   "cell_type": "code",
   "execution_count": 69,
   "id": "6dcc4345",
   "metadata": {
    "ExecuteTime": {
     "end_time": "2022-04-16T07:00:34.545606Z",
     "start_time": "2022-04-16T07:00:32.694497Z"
    }
   },
   "outputs": [
    {
     "name": "stdout",
     "output_type": "stream",
     "text": [
      " 29/313 [=>............................] - ETA: 1s - loss: 2.4843 - accuracy: 0.0905 "
     ]
    },
    {
     "name": "stderr",
     "output_type": "stream",
     "text": [
      "2022-04-16 16:00:32.791107: I tensorflow/core/grappler/optimizers/custom_graph_optimizer_registry.cc:113] Plugin optimizer for device_type GPU is enabled.\n"
     ]
    },
    {
     "name": "stdout",
     "output_type": "stream",
     "text": [
      "313/313 [==============================] - 2s 6ms/step - loss: 2.4666 - accuracy: 0.0974\n"
     ]
    }
   ],
   "source": [
    "loss, acc = network.evaluate(test_images, test_labels)"
   ]
  },
  {
   "cell_type": "code",
   "execution_count": 72,
   "id": "9034606f",
   "metadata": {
    "ExecuteTime": {
     "end_time": "2022-04-16T07:01:31.517300Z",
     "start_time": "2022-04-16T07:01:30.880441Z"
    }
   },
   "outputs": [
    {
     "data": {
      "text/plain": [
       "array([[0.15957327, 0.05219023, 0.07214696, ..., 0.05821044, 0.27737448,\n",
       "        0.11582608],\n",
       "       [0.15557684, 0.0527869 , 0.07184931, ..., 0.0586249 , 0.28337017,\n",
       "        0.11516364],\n",
       "       [0.16048786, 0.05187853, 0.07169598, ..., 0.05829059, 0.27960083,\n",
       "        0.11453345],\n",
       "       ...,\n",
       "       [0.16048984, 0.05181932, 0.07031538, ..., 0.05888481, 0.279299  ,\n",
       "        0.11584821],\n",
       "       [0.16028018, 0.05182697, 0.07138306, ..., 0.05861071, 0.2798731 ,\n",
       "        0.11418043],\n",
       "       [0.16025645, 0.05186785, 0.07139947, ..., 0.05839759, 0.28014177,\n",
       "        0.1144239 ]], dtype=float32)"
      ]
     },
     "execution_count": 72,
     "metadata": {},
     "output_type": "execute_result"
    }
   ],
   "source": [
    "y = network.predict(test_images)\n",
    "y"
   ]
  },
  {
   "cell_type": "code",
   "execution_count": 73,
   "id": "b3bb5c8c",
   "metadata": {
    "ExecuteTime": {
     "end_time": "2022-04-16T07:01:48.486123Z",
     "start_time": "2022-04-16T07:01:48.480637Z"
    }
   },
   "outputs": [
    {
     "data": {
      "text/plain": [
       "array([[0., 0., 0., ..., 1., 0., 0.],\n",
       "       [0., 0., 1., ..., 0., 0., 0.],\n",
       "       [0., 1., 0., ..., 0., 0., 0.],\n",
       "       ...,\n",
       "       [0., 0., 0., ..., 0., 0., 0.],\n",
       "       [0., 0., 0., ..., 0., 0., 0.],\n",
       "       [0., 0., 0., ..., 0., 0., 0.]], dtype=float32)"
      ]
     },
     "execution_count": 73,
     "metadata": {},
     "output_type": "execute_result"
    }
   ],
   "source": [
    "test_labels"
   ]
  },
  {
   "cell_type": "markdown",
   "id": "d9c4c6f8",
   "metadata": {},
   "source": [
    "### 데이터 표현 - tensor"
   ]
  },
  {
   "cell_type": "code",
   "execution_count": 91,
   "id": "d329cd97",
   "metadata": {
    "ExecuteTime": {
     "end_time": "2022-04-16T08:03:57.809587Z",
     "start_time": "2022-04-16T08:03:57.804996Z"
    }
   },
   "outputs": [
    {
     "data": {
      "text/plain": [
       "array(10)"
      ]
     },
     "execution_count": 91,
     "metadata": {},
     "output_type": "execute_result"
    }
   ],
   "source": [
    "#0D 스칼라 (숫자..)\n",
    "import numpy as np\n",
    "\n",
    "x = np.array(10)\n",
    "x\n",
    "# x.dtype \n",
    "# x.shape\n",
    "# x.ndim"
   ]
  },
  {
   "cell_type": "code",
   "execution_count": 94,
   "id": "f7c65500",
   "metadata": {
    "ExecuteTime": {
     "end_time": "2022-04-16T08:13:10.283633Z",
     "start_time": "2022-04-16T08:13:10.278619Z"
    }
   },
   "outputs": [
    {
     "data": {
      "text/plain": [
       "dtype('int64')"
      ]
     },
     "execution_count": 94,
     "metadata": {},
     "output_type": "execute_result"
    }
   ],
   "source": [
    "#1D 벡터 (배열, 리스트)\n",
    "x = np.array( [ 1,2,3,4,5] )\n",
    "x\n",
    "# x.dtype \n",
    "# x.shape\n",
    "# x.ndim"
   ]
  },
  {
   "cell_type": "code",
   "execution_count": 96,
   "id": "14bda504",
   "metadata": {
    "ExecuteTime": {
     "end_time": "2022-04-16T08:13:16.951963Z",
     "start_time": "2022-04-16T08:13:16.946424Z"
    }
   },
   "outputs": [
    {
     "data": {
      "text/plain": [
       "2"
      ]
     },
     "execution_count": 96,
     "metadata": {},
     "output_type": "execute_result"
    }
   ],
   "source": [
    "#2D 행렬 \n",
    "x = np.array( [[5,6,7,8],\n",
    "              [10,20,30,40],\n",
    "              [-1,-2,-3,-4]] )\n",
    "x\n",
    "# x.dtype \n",
    "# x.shape\n",
    "# x.ndim"
   ]
  },
  {
   "cell_type": "code",
   "execution_count": 104,
   "id": "290b3723",
   "metadata": {
    "ExecuteTime": {
     "end_time": "2022-04-16T08:27:59.776388Z",
     "start_time": "2022-04-16T08:27:59.764798Z"
    },
    "scrolled": true
   },
   "outputs": [
    {
     "data": {
      "text/plain": [
       "(3, 4, 5)"
      ]
     },
     "execution_count": 104,
     "metadata": {},
     "output_type": "execute_result"
    }
   ],
   "source": [
    "#3D~ 고차원 텐서 \n",
    "x = np.array( [[[5,6,7,8,9], \n",
    "                [50,60,70,80,90], \n",
    "                [500,600,700,800,900],\n",
    "                [5000,6000,7000,8000,9000]],\n",
    "               \n",
    "               [[1,2,3,4,5], \n",
    "                [10,20,30,40,50],\n",
    "                [100,200,300,400,500],\n",
    "                [1000,2000,3000,4000,5000]],\n",
    "              \n",
    "               [[-1,-2,-3,-5,-6],\n",
    "                [-10,-20,-30,-40,-60],\n",
    "                [-100,-200,-300,-400,-600],\n",
    "                [-1000,-2000,-3000,-4000,-6000]] ])\n",
    "x\n",
    "x.shape\n",
    "# x.ndim"
   ]
  },
  {
   "cell_type": "markdown",
   "id": "fb282575",
   "metadata": {},
   "source": [
    "### 심화 mnist data set 자세히 살펴보기"
   ]
  },
  {
   "cell_type": "code",
   "execution_count": 111,
   "id": "55f90b4e",
   "metadata": {
    "ExecuteTime": {
     "end_time": "2022-04-16T09:22:19.438701Z",
     "start_time": "2022-04-16T09:22:19.434990Z"
    }
   },
   "outputs": [
    {
     "name": "stdout",
     "output_type": "stream",
     "text": [
      "3\n",
      "(60000, 28, 28)\n",
      "uint8\n"
     ]
    }
   ],
   "source": [
    "(train_images, train_labels), (test_images, test_labels) = a\n",
    "print(train_images.ndim)\n",
    "print(train_images.shape)\n",
    "print(train_images.dtype)"
   ]
  },
  {
   "cell_type": "code",
   "execution_count": 112,
   "id": "9e2802a6",
   "metadata": {
    "ExecuteTime": {
     "end_time": "2022-04-16T09:32:55.879919Z",
     "start_time": "2022-04-16T09:32:55.870938Z"
    },
    "scrolled": true
   },
   "outputs": [
    {
     "data": {
      "text/plain": [
       "array([[  0,   0,   0,   0,   0,   0,   0,   0,   0,   0,   0,   0,   0,\n",
       "          0,   0,   0,   0,   0,   0,   0,   0,   0,   0,   0,   0,   0,\n",
       "          0,   0],\n",
       "       [  0,   0,   0,   0,   0,   0,   0,   0,   0,   0,   0,   0,   0,\n",
       "          0,   0,   0,   0,   0,   0,   0,   0,   0,   0,   0,   0,   0,\n",
       "          0,   0],\n",
       "       [  0,   0,   0,   0,   0,   0,   0,   0,   0,   0,   0,   0,   0,\n",
       "          0,   0,   0,   0,   0,   0,   0,   0,   0,   0,   0,   0,   0,\n",
       "          0,   0],\n",
       "       [  0,   0,   0,   0,   0,   0,   0,   0,   0,   0,   0,   0,   0,\n",
       "          0,   0,   0,   0,   0,   0,   0,   0,   0,   0,   0,   0,   0,\n",
       "          0,   0],\n",
       "       [  0,   0,   0,   0,   0,   0,   0,   0,   0,   0,   0,   0,   0,\n",
       "          0,   0,   0,   0,   0,   0,   0,   0,   0,   0,   0,   0,   0,\n",
       "          0,   0],\n",
       "       [  0,   0,   0,   0,   0,   0,   0,   0,   0,   0,   0,   0,   0,\n",
       "          0,   0,   0,   0,   0,   0,   0,   0,   0,   0,   0,   0,   0,\n",
       "          0,   0],\n",
       "       [  0,   0,   0,   0,   0,   0,   0,   0,   0,   0,   0,   0,   0,\n",
       "          0,   0,   0,   0,   0,   0,   0,   0,   0,   0,   0,   0,   0,\n",
       "          0,   0],\n",
       "       [  0,   0,   0,   0,   0,   0,   0,   0,   0,   0,   0,   0,  55,\n",
       "        148, 210, 253, 253, 113,  87, 148,  55,   0,   0,   0,   0,   0,\n",
       "          0,   0],\n",
       "       [  0,   0,   0,   0,   0,   0,   0,   0,   0,   0,   0,  87, 232,\n",
       "        252, 253, 189, 210, 252, 252, 253, 168,   0,   0,   0,   0,   0,\n",
       "          0,   0],\n",
       "       [  0,   0,   0,   0,   0,   0,   0,   0,   0,   4,  57, 242, 252,\n",
       "        190,  65,   5,  12, 182, 252, 253, 116,   0,   0,   0,   0,   0,\n",
       "          0,   0],\n",
       "       [  0,   0,   0,   0,   0,   0,   0,   0,   0,  96, 252, 252, 183,\n",
       "         14,   0,   0,  92, 252, 252, 225,  21,   0,   0,   0,   0,   0,\n",
       "          0,   0],\n",
       "       [  0,   0,   0,   0,   0,   0,   0,   0, 132, 253, 252, 146,  14,\n",
       "          0,   0,   0, 215, 252, 252,  79,   0,   0,   0,   0,   0,   0,\n",
       "          0,   0],\n",
       "       [  0,   0,   0,   0,   0,   0,   0, 126, 253, 247, 176,   9,   0,\n",
       "          0,   8,  78, 245, 253, 129,   0,   0,   0,   0,   0,   0,   0,\n",
       "          0,   0],\n",
       "       [  0,   0,   0,   0,   0,   0,  16, 232, 252, 176,   0,   0,   0,\n",
       "         36, 201, 252, 252, 169,  11,   0,   0,   0,   0,   0,   0,   0,\n",
       "          0,   0],\n",
       "       [  0,   0,   0,   0,   0,   0,  22, 252, 252,  30,  22, 119, 197,\n",
       "        241, 253, 252, 251,  77,   0,   0,   0,   0,   0,   0,   0,   0,\n",
       "          0,   0],\n",
       "       [  0,   0,   0,   0,   0,   0,  16, 231, 252, 253, 252, 252, 252,\n",
       "        226, 227, 252, 231,   0,   0,   0,   0,   0,   0,   0,   0,   0,\n",
       "          0,   0],\n",
       "       [  0,   0,   0,   0,   0,   0,   0,  55, 235, 253, 217, 138,  42,\n",
       "         24, 192, 252, 143,   0,   0,   0,   0,   0,   0,   0,   0,   0,\n",
       "          0,   0],\n",
       "       [  0,   0,   0,   0,   0,   0,   0,   0,   0,   0,   0,   0,   0,\n",
       "         62, 255, 253, 109,   0,   0,   0,   0,   0,   0,   0,   0,   0,\n",
       "          0,   0],\n",
       "       [  0,   0,   0,   0,   0,   0,   0,   0,   0,   0,   0,   0,   0,\n",
       "         71, 253, 252,  21,   0,   0,   0,   0,   0,   0,   0,   0,   0,\n",
       "          0,   0],\n",
       "       [  0,   0,   0,   0,   0,   0,   0,   0,   0,   0,   0,   0,   0,\n",
       "          0, 253, 252,  21,   0,   0,   0,   0,   0,   0,   0,   0,   0,\n",
       "          0,   0],\n",
       "       [  0,   0,   0,   0,   0,   0,   0,   0,   0,   0,   0,   0,   0,\n",
       "         71, 253, 252,  21,   0,   0,   0,   0,   0,   0,   0,   0,   0,\n",
       "          0,   0],\n",
       "       [  0,   0,   0,   0,   0,   0,   0,   0,   0,   0,   0,   0,   0,\n",
       "        106, 253, 252,  21,   0,   0,   0,   0,   0,   0,   0,   0,   0,\n",
       "          0,   0],\n",
       "       [  0,   0,   0,   0,   0,   0,   0,   0,   0,   0,   0,   0,   0,\n",
       "         45, 255, 253,  21,   0,   0,   0,   0,   0,   0,   0,   0,   0,\n",
       "          0,   0],\n",
       "       [  0,   0,   0,   0,   0,   0,   0,   0,   0,   0,   0,   0,   0,\n",
       "          0, 218, 252,  56,   0,   0,   0,   0,   0,   0,   0,   0,   0,\n",
       "          0,   0],\n",
       "       [  0,   0,   0,   0,   0,   0,   0,   0,   0,   0,   0,   0,   0,\n",
       "          0,  96, 252, 189,  42,   0,   0,   0,   0,   0,   0,   0,   0,\n",
       "          0,   0],\n",
       "       [  0,   0,   0,   0,   0,   0,   0,   0,   0,   0,   0,   0,   0,\n",
       "          0,  14, 184, 252, 170,  11,   0,   0,   0,   0,   0,   0,   0,\n",
       "          0,   0],\n",
       "       [  0,   0,   0,   0,   0,   0,   0,   0,   0,   0,   0,   0,   0,\n",
       "          0,   0,  14, 147, 252,  42,   0,   0,   0,   0,   0,   0,   0,\n",
       "          0,   0],\n",
       "       [  0,   0,   0,   0,   0,   0,   0,   0,   0,   0,   0,   0,   0,\n",
       "          0,   0,   0,   0,   0,   0,   0,   0,   0,   0,   0,   0,   0,\n",
       "          0,   0]], dtype=uint8)"
      ]
     },
     "execution_count": 112,
     "metadata": {},
     "output_type": "execute_result"
    }
   ],
   "source": [
    "digit = train_images[4]\n",
    "digit"
   ]
  },
  {
   "cell_type": "code",
   "execution_count": 121,
   "id": "bffcfb0f",
   "metadata": {
    "ExecuteTime": {
     "end_time": "2022-04-17T06:33:17.898618Z",
     "start_time": "2022-04-17T06:33:17.802236Z"
    }
   },
   "outputs": [
    {
     "data": {
      "text/plain": [
       "<matplotlib.image.AxesImage at 0x2d7e5d940>"
      ]
     },
     "execution_count": 121,
     "metadata": {},
     "output_type": "execute_result"
    },
    {
     "data": {
      "image/png": "[encoded data removed]",
      "text/plain": [
       "<Figure size 432x288 with 1 Axes>"
      ]
     },
     "metadata": {
      "needs_background": "light"
     },
     "output_type": "display_data"
    }
   ],
   "source": [
    "import matplotlib.pyplot as plt\n",
    "\n",
    "plt.imshow(digit, cmap=plt.cm.binary)\n",
    "#imshow = image show 이미지 출력.\n",
    "#cmap = color map 색상 설정 : https://matplotlib.org/stable/tutorials/colors/colormaps.html document"
   ]
  },
  {
   "cell_type": "code",
   "execution_count": 123,
   "id": "11e57d6c",
   "metadata": {
    "ExecuteTime": {
     "end_time": "2022-04-17T06:37:21.425157Z",
     "start_time": "2022-04-17T06:37:21.420878Z"
    },
    "scrolled": true
   },
   "outputs": [
    {
     "data": {
      "text/plain": [
       "(90, 28, 28)"
      ]
     },
     "execution_count": 123,
     "metadata": {},
     "output_type": "execute_result"
    }
   ],
   "source": [
    "#슬라이싱\n",
    "\n",
    "my_slice = train_images[10:100] # 11~100 index\n",
    "my_slice\n",
    "my_slice.shape"
   ]
  },
  {
   "cell_type": "code",
   "execution_count": 124,
   "id": "b16082bd",
   "metadata": {
    "ExecuteTime": {
     "end_time": "2022-04-17T06:38:30.166203Z",
     "start_time": "2022-04-17T06:38:30.162152Z"
    }
   },
   "outputs": [
    {
     "data": {
      "text/plain": [
       "(90, 28, 28)"
      ]
     },
     "execution_count": 124,
     "metadata": {},
     "output_type": "execute_result"
    }
   ],
   "source": [
    "my_slice2 = train_images[10:100, :, :]\n",
    "my_slice2.shape"
   ]
  },
  {
   "cell_type": "code",
   "execution_count": 125,
   "id": "e1a73908",
   "metadata": {
    "ExecuteTime": {
     "end_time": "2022-04-17T06:38:55.462879Z",
     "start_time": "2022-04-17T06:38:55.458452Z"
    }
   },
   "outputs": [
    {
     "data": {
      "text/plain": [
       "(90, 27, 27)"
      ]
     },
     "execution_count": 125,
     "metadata": {},
     "output_type": "execute_result"
    }
   ],
   "source": [
    "my_slice3 = train_images[10:100, 0:27, 0:27]\n",
    "my_slice3.shape"
   ]
  },
  {
   "cell_type": "code",
   "execution_count": 126,
   "id": "38744f08",
   "metadata": {
    "ExecuteTime": {
     "end_time": "2022-04-17T06:48:05.340907Z",
     "start_time": "2022-04-17T06:48:05.336112Z"
    }
   },
   "outputs": [
    {
     "data": {
      "text/plain": [
       "(128, 28, 28)"
      ]
     },
     "execution_count": 126,
     "metadata": {},
     "output_type": "execute_result"
    }
   ],
   "source": [
    "# 배치 \n",
    "\n",
    "batch = train_images[:128]\n",
    "batch.shape\n",
    "# 의미 해석 : train_set 의 첫 번째~128번째 이미지 까지 묶은 batch"
   ]
  },
  {
   "cell_type": "code",
   "execution_count": 129,
   "id": "638fd5a0",
   "metadata": {
    "ExecuteTime": {
     "end_time": "2022-04-17T06:49:33.911604Z",
     "start_time": "2022-04-17T06:49:33.907653Z"
    }
   },
   "outputs": [
    {
     "data": {
      "text/plain": [
       "(28, 28)"
      ]
     },
     "execution_count": 129,
     "metadata": {},
     "output_type": "execute_result"
    }
   ],
   "source": [
    "train_images[127].shape\n",
    "# train_set 에서 127번째 이미지만 선택."
   ]
  },
  {
   "cell_type": "code",
   "execution_count": 130,
   "id": "2225ec2a",
   "metadata": {
    "ExecuteTime": {
     "end_time": "2022-04-17T06:51:19.197509Z",
     "start_time": "2022-04-17T06:51:19.193090Z"
    }
   },
   "outputs": [
    {
     "data": {
      "text/plain": [
       "(128, 28, 28)"
      ]
     },
     "execution_count": 130,
     "metadata": {},
     "output_type": "execute_result"
    }
   ],
   "source": [
    "batch = train_images[128:256]\n",
    "batch.shape"
   ]
  },
  {
   "cell_type": "markdown",
   "id": "4a9306d8",
   "metadata": {},
   "source": [
    "## 신경망-수학적 배경지식"
   ]
  },
  {
   "cell_type": "markdown",
   "id": "6ccc649d",
   "metadata": {},
   "source": [
    "### 텐서 연산 - np.dot()"
   ]
  },
  {
   "cell_type": "code",
   "execution_count": 132,
   "id": "8dd93726",
   "metadata": {
    "ExecuteTime": {
     "end_time": "2022-04-24T04:20:52.800387Z",
     "start_time": "2022-04-24T04:20:52.790980Z"
    }
   },
   "outputs": [
    {
     "data": {
      "text/plain": [
       "8"
      ]
     },
     "execution_count": 132,
     "metadata": {},
     "output_type": "execute_result"
    }
   ],
   "source": [
    "'''\n",
    "    numpy dot(x, y) : \n",
    "        \n",
    "        내적 행렬 곱 연산\n",
    "    \n",
    "'''\n",
    "# 1차원*1차원 내적\n",
    "\n",
    "a = [1,2]\n",
    "b = [2,3]\n",
    "np.dot(a, b)"
   ]
  },
  {
   "cell_type": "code",
   "execution_count": 135,
   "id": "087bae09",
   "metadata": {
    "ExecuteTime": {
     "end_time": "2022-04-24T04:21:28.025865Z",
     "start_time": "2022-04-24T04:21:28.020411Z"
    }
   },
   "outputs": [
    {
     "data": {
      "text/plain": [
       "array([[10,  6],\n",
       "       [14, 12]])"
      ]
     },
     "execution_count": 135,
     "metadata": {},
     "output_type": "execute_result"
    }
   ],
   "source": [
    "# 2차원*2차원 내적\n",
    "\n",
    "a = np.array([[1, 3], [2, 4]])\n",
    "b = np.array([[1, 6], [3, 0]])\n",
    "\n",
    "np.dot(a, b)"
   ]
  },
  {
   "cell_type": "code",
   "execution_count": 134,
   "id": "6cfd0bfa",
   "metadata": {
    "ExecuteTime": {
     "end_time": "2022-04-24T04:21:22.156601Z",
     "start_time": "2022-04-24T04:21:22.150797Z"
    }
   },
   "outputs": [
    {
     "data": {
      "text/plain": [
       "array([[[1, 4],\n",
       "        [0, 0]],\n",
       "\n",
       "       [[2, 6],\n",
       "        [0, 0]]])"
      ]
     },
     "execution_count": 134,
     "metadata": {},
     "output_type": "execute_result"
    }
   ],
   "source": [
    "# n차원*m차원 내적\n",
    "\n",
    "a = np.array([[1, 3], [2, 4]])\n",
    "b = np.array([[[1, 1], [0, 1]], [[0, 0], [0, 0]]])\n",
    "\n",
    "np.dot(a, b)"
   ]
  },
  {
   "cell_type": "markdown",
   "id": "a54a36ba",
   "metadata": {},
   "source": [
    "### 텐서 크기변환 - reshape() , transpose()"
   ]
  },
  {
   "cell_type": "code",
   "execution_count": 149,
   "id": "3b11f8ff",
   "metadata": {
    "ExecuteTime": {
     "end_time": "2022-04-24T04:32:12.601647Z",
     "start_time": "2022-04-24T04:32:12.598268Z"
    }
   },
   "outputs": [
    {
     "name": "stdout",
     "output_type": "stream",
     "text": [
      "(15,)\n",
      "(3, 5)\n"
     ]
    }
   ],
   "source": [
    "x = np.arange(15)\n",
    "print(x.shape)\n",
    "\n",
    "x = x.reshape((3,5))\n",
    "print(x.shape)\n"
   ]
  },
  {
   "cell_type": "code",
   "execution_count": 162,
   "id": "3e52c2ac",
   "metadata": {
    "ExecuteTime": {
     "end_time": "2022-04-24T04:35:04.551426Z",
     "start_time": "2022-04-24T04:35:04.546292Z"
    }
   },
   "outputs": [
    {
     "name": "stdout",
     "output_type": "stream",
     "text": [
      "[[0. 0. 0. 0. 0. 0.]\n",
      " [0. 0. 0. 0. 0. 0.]\n",
      " [0. 0. 0. 0. 0. 0.]\n",
      " ...\n",
      " [0. 0. 0. 0. 0. 0.]\n",
      " [0. 0. 0. 0. 0. 0.]\n",
      " [0. 0. 0. 0. 0. 0.]]\n"
     ]
    },
    {
     "data": {
      "text/plain": [
       "(300, 6)"
      ]
     },
     "execution_count": 162,
     "metadata": {},
     "output_type": "execute_result"
    }
   ],
   "source": [
    "# 전치\n",
    "\n",
    "a = np.zeros((300,6))\n",
    "print(a)\n",
    "a.shape"
   ]
  },
  {
   "cell_type": "code",
   "execution_count": 163,
   "id": "0997ba6f",
   "metadata": {
    "ExecuteTime": {
     "end_time": "2022-04-24T04:35:07.463039Z",
     "start_time": "2022-04-24T04:35:07.456688Z"
    }
   },
   "outputs": [
    {
     "name": "stdout",
     "output_type": "stream",
     "text": [
      "[[0. 0. 0. ... 0. 0. 0.]\n",
      " [0. 0. 0. ... 0. 0. 0.]\n",
      " [0. 0. 0. ... 0. 0. 0.]\n",
      " [0. 0. 0. ... 0. 0. 0.]\n",
      " [0. 0. 0. ... 0. 0. 0.]\n",
      " [0. 0. 0. ... 0. 0. 0.]]\n"
     ]
    },
    {
     "data": {
      "text/plain": [
       "(6, 300)"
      ]
     },
     "execution_count": 163,
     "metadata": {},
     "output_type": "execute_result"
    }
   ],
   "source": [
    "a = np.transpose(a)\n",
    "print(a)\n",
    "a.shape"
   ]
  },
  {
   "cell_type": "code",
   "execution_count": 165,
   "id": "4e2486d3",
   "metadata": {
    "ExecuteTime": {
     "end_time": "2022-04-24T04:35:25.091430Z",
     "start_time": "2022-04-24T04:35:25.087138Z"
    }
   },
   "outputs": [
    {
     "data": {
      "text/plain": [
       "(300, 6)"
      ]
     },
     "execution_count": 165,
     "metadata": {},
     "output_type": "execute_result"
    }
   ],
   "source": [
    "# 간단하게 T 로 사용할 수 있다.\n",
    "a.T.shape"
   ]
  },
  {
   "cell_type": "markdown",
   "id": "bc9b1781",
   "metadata": {},
   "source": [
    "### gradient, 미분, 변화율"
   ]
  },
  {
   "cell_type": "code",
   "execution_count": null,
   "id": "af1bc4f3",
   "metadata": {},
   "outputs": [],
   "source": [
    "# momentum 예시\n",
    "\n",
    "past_velocity = 0.0\n",
    "momentum = 0.9\n",
    "\n",
    "while loss > 0.01:\n",
    "    w, loss, gradient = get_current_parameters()\n",
    "    \n",
    "    velocity = ( momentum * past_velocity ) - ( learning_rate * gradient ) # 과거 velocity 값 고려\n",
    "    w =  w + ( momentum * velocity)  - ( learning_rate * gradient )\n",
    "    \n",
    "    past_velocity = velocity\n",
    "    update_parameter(w)"
   ]
  },
  {
   "cell_type": "markdown",
   "id": "b9175b3e",
   "metadata": {},
   "source": [
    "### layer - network"
   ]
  },
  {
   "cell_type": "code",
   "execution_count": 7,
   "id": "3f313e09",
   "metadata": {
    "ExecuteTime": {
     "end_time": "2022-04-29T14:58:16.494197Z",
     "start_time": "2022-04-29T14:58:16.487655Z"
    }
   },
   "outputs": [
    {
     "data": {
      "text/plain": [
       "<keras.layers.core.dense.Dense at 0x177665130>"
      ]
     },
     "execution_count": 7,
     "metadata": {},
     "output_type": "execute_result"
    }
   ],
   "source": [
    "from keras import layers\n",
    "\n",
    "layer = layers.Dense(32, input_shape=(784,))\n",
    "layer"
   ]
  },
  {
   "cell_type": "code",
   "execution_count": 10,
   "id": "a33e3f04",
   "metadata": {
    "ExecuteTime": {
     "end_time": "2022-04-29T16:26:29.413477Z",
     "start_time": "2022-04-29T16:26:29.380798Z"
    }
   },
   "outputs": [
    {
     "name": "stdout",
     "output_type": "stream",
     "text": [
      "Model: \"sequential_2\"\n",
      "_________________________________________________________________\n",
      " Layer (type)                Output Shape              Param #   \n",
      "=================================================================\n",
      " dense_4 (Dense)             (None, 32)                25120     \n",
      "                                                                 \n",
      " dense_6 (Dense)             (None, 10)                330       \n",
      "                                                                 \n",
      "=================================================================\n",
      "Total params: 25,450\n",
      "Trainable params: 25,450\n",
      "Non-trainable params: 0\n",
      "_________________________________________________________________\n"
     ]
    }
   ],
   "source": [
    "from keras import models\n",
    "\n",
    "model = models.Sequential()\n",
    "model.add(layer)\n",
    "model.add(layers.Dense(10))\n",
    "model.summary()"
   ]
  },
  {
   "cell_type": "markdown",
   "id": "d8f6281f",
   "metadata": {},
   "source": [
    "## 이진분류 (imdb 영화리뷰)"
   ]
  },
  {
   "cell_type": "code",
   "execution_count": 5,
   "id": "a1dc93d3",
   "metadata": {
    "ExecuteTime": {
     "end_time": "2022-05-08T07:08:20.929092Z",
     "start_time": "2022-05-08T07:08:19.103974Z"
    },
    "scrolled": true
   },
   "outputs": [
    {
     "data": {
      "text/plain": [
       "((array([list([1, 14, 22, 16, 43, 530, 973, 1622, 1385, 65, 458, 4468, 66, 3941, 4, 173, 36, 256, 5, 25, 100, 43, 838, 112, 50, 670, 2, 9, 35, 480, 284, 5, 150, 4, 172, 112, 167, 2, 336, 385, 39, 4, 172, 4536, 1111, 17, 546, 38, 13, 447, 4, 192, 50, 16, 6, 147, 2025, 19, 14, 22, 4, 1920, 4613, 469, 4, 22, 71, 87, 12, 16, 43, 530, 38, 76, 15, 13, 1247, 4, 22, 17, 515, 17, 12, 16, 626, 18, 2, 5, 62, 386, 12, 8, 316, 8, 106, 5, 4, 2223, 5244, 16, 480, 66, 3785, 33, 4, 130, 12, 16, 38, 619, 5, 25, 124, 51, 36, 135, 48, 25, 1415, 33, 6, 22, 12, 215, 28, 77, 52, 5, 14, 407, 16, 82, 2, 8, 4, 107, 117, 5952, 15, 256, 4, 2, 7, 3766, 5, 723, 36, 71, 43, 530, 476, 26, 400, 317, 46, 7, 4, 2, 1029, 13, 104, 88, 4, 381, 15, 297, 98, 32, 2071, 56, 26, 141, 6, 194, 7486, 18, 4, 226, 22, 21, 134, 476, 26, 480, 5, 144, 30, 5535, 18, 51, 36, 28, 224, 92, 25, 104, 4, 226, 65, 16, 38, 1334, 88, 12, 16, 283, 5, 16, 4472, 113, 103, 32, 15, 16, 5345, 19, 178, 32]),\n",
       "         list([1, 194, 1153, 194, 8255, 78, 228, 5, 6, 1463, 4369, 5012, 134, 26, 4, 715, 8, 118, 1634, 14, 394, 20, 13, 119, 954, 189, 102, 5, 207, 110, 3103, 21, 14, 69, 188, 8, 30, 23, 7, 4, 249, 126, 93, 4, 114, 9, 2300, 1523, 5, 647, 4, 116, 9, 35, 8163, 4, 229, 9, 340, 1322, 4, 118, 9, 4, 130, 4901, 19, 4, 1002, 5, 89, 29, 952, 46, 37, 4, 455, 9, 45, 43, 38, 1543, 1905, 398, 4, 1649, 26, 6853, 5, 163, 11, 3215, 2, 4, 1153, 9, 194, 775, 7, 8255, 2, 349, 2637, 148, 605, 2, 8003, 15, 123, 125, 68, 2, 6853, 15, 349, 165, 4362, 98, 5, 4, 228, 9, 43, 2, 1157, 15, 299, 120, 5, 120, 174, 11, 220, 175, 136, 50, 9, 4373, 228, 8255, 5, 2, 656, 245, 2350, 5, 4, 9837, 131, 152, 491, 18, 2, 32, 7464, 1212, 14, 9, 6, 371, 78, 22, 625, 64, 1382, 9, 8, 168, 145, 23, 4, 1690, 15, 16, 4, 1355, 5, 28, 6, 52, 154, 462, 33, 89, 78, 285, 16, 145, 95]),\n",
       "         list([1, 14, 47, 8, 30, 31, 7, 4, 249, 108, 7, 4, 5974, 54, 61, 369, 13, 71, 149, 14, 22, 112, 4, 2401, 311, 12, 16, 3711, 33, 75, 43, 1829, 296, 4, 86, 320, 35, 534, 19, 263, 4821, 1301, 4, 1873, 33, 89, 78, 12, 66, 16, 4, 360, 7, 4, 58, 316, 334, 11, 4, 1716, 43, 645, 662, 8, 257, 85, 1200, 42, 1228, 2578, 83, 68, 3912, 15, 36, 165, 1539, 278, 36, 69, 2, 780, 8, 106, 14, 6905, 1338, 18, 6, 22, 12, 215, 28, 610, 40, 6, 87, 326, 23, 2300, 21, 23, 22, 12, 272, 40, 57, 31, 11, 4, 22, 47, 6, 2307, 51, 9, 170, 23, 595, 116, 595, 1352, 13, 191, 79, 638, 89, 2, 14, 9, 8, 106, 607, 624, 35, 534, 6, 227, 7, 129, 113]),\n",
       "         ...,\n",
       "         list([1, 11, 6, 230, 245, 6401, 9, 6, 1225, 446, 2, 45, 2174, 84, 8322, 4007, 21, 4, 912, 84, 2, 325, 725, 134, 2, 1715, 84, 5, 36, 28, 57, 1099, 21, 8, 140, 8, 703, 5, 2, 84, 56, 18, 1644, 14, 9, 31, 7, 4, 9406, 1209, 2295, 2, 1008, 18, 6, 20, 207, 110, 563, 12, 8, 2901, 2, 8, 97, 6, 20, 53, 4767, 74, 4, 460, 364, 1273, 29, 270, 11, 960, 108, 45, 40, 29, 2961, 395, 11, 6, 4065, 500, 7, 2, 89, 364, 70, 29, 140, 4, 64, 4780, 11, 4, 2678, 26, 178, 4, 529, 443, 2, 5, 27, 710, 117, 2, 8123, 165, 47, 84, 37, 131, 818, 14, 595, 10, 10, 61, 1242, 1209, 10, 10, 288, 2260, 1702, 34, 2901, 2, 4, 65, 496, 4, 231, 7, 790, 5, 6, 320, 234, 2766, 234, 1119, 1574, 7, 496, 4, 139, 929, 2901, 2, 7750, 5, 4241, 18, 4, 8497, 2, 250, 11, 1818, 7561, 4, 4217, 5408, 747, 1115, 372, 1890, 1006, 541, 9303, 7, 4, 59, 2, 4, 3586, 2]),\n",
       "         list([1, 1446, 7079, 69, 72, 3305, 13, 610, 930, 8, 12, 582, 23, 5, 16, 484, 685, 54, 349, 11, 4120, 2959, 45, 58, 1466, 13, 197, 12, 16, 43, 23, 2, 5, 62, 30, 145, 402, 11, 4131, 51, 575, 32, 61, 369, 71, 66, 770, 12, 1054, 75, 100, 2198, 8, 4, 105, 37, 69, 147, 712, 75, 3543, 44, 257, 390, 5, 69, 263, 514, 105, 50, 286, 1814, 23, 4, 123, 13, 161, 40, 5, 421, 4, 116, 16, 897, 13, 2, 40, 319, 5872, 112, 6700, 11, 4803, 121, 25, 70, 3468, 4, 719, 3798, 13, 18, 31, 62, 40, 8, 7200, 4, 2, 7, 14, 123, 5, 942, 25, 8, 721, 12, 145, 5, 202, 12, 160, 580, 202, 12, 6, 52, 58, 2, 92, 401, 728, 12, 39, 14, 251, 8, 15, 251, 5, 2, 12, 38, 84, 80, 124, 12, 9, 23]),\n",
       "         list([1, 17, 6, 194, 337, 7, 4, 204, 22, 45, 254, 8, 106, 14, 123, 4, 2, 270, 2, 5, 2, 2, 732, 2098, 101, 405, 39, 14, 1034, 4, 1310, 9, 115, 50, 305, 12, 47, 4, 168, 5, 235, 7, 38, 111, 699, 102, 7, 4, 4039, 9245, 9, 24, 6, 78, 1099, 17, 2345, 2, 21, 27, 9685, 6139, 5, 2, 1603, 92, 1183, 4, 1310, 7, 4, 204, 42, 97, 90, 35, 221, 109, 29, 127, 27, 118, 8, 97, 12, 157, 21, 6789, 2, 9, 6, 66, 78, 1099, 4, 631, 1191, 5, 2642, 272, 191, 1070, 6, 7585, 8, 2197, 2, 2, 544, 5, 383, 1271, 848, 1468, 2, 497, 2, 8, 1597, 8778, 2, 21, 60, 27, 239, 9, 43, 8368, 209, 405, 10, 10, 12, 764, 40, 4, 248, 20, 12, 16, 5, 174, 1791, 72, 7, 51, 6, 1739, 22, 4, 204, 131, 9])],\n",
       "        dtype=object),\n",
       "  array([1, 0, 0, ..., 0, 1, 0])),\n",
       " (array([list([1, 591, 202, 14, 31, 6, 717, 10, 10, 2, 2, 5, 4, 360, 7, 4, 177, 5760, 394, 354, 4, 123, 9, 1035, 1035, 1035, 10, 10, 13, 92, 124, 89, 488, 7944, 100, 28, 1668, 14, 31, 23, 27, 7479, 29, 220, 468, 8, 124, 14, 286, 170, 8, 157, 46, 5, 27, 239, 16, 179, 2, 38, 32, 25, 7944, 451, 202, 14, 6, 717]),\n",
       "         list([1, 14, 22, 3443, 6, 176, 7, 5063, 88, 12, 2679, 23, 1310, 5, 109, 943, 4, 114, 9, 55, 606, 5, 111, 7, 4, 139, 193, 273, 23, 4, 172, 270, 11, 7216, 2, 4, 8463, 2801, 109, 1603, 21, 4, 22, 3861, 8, 6, 1193, 1330, 10, 10, 4, 105, 987, 35, 841, 2, 19, 861, 1074, 5, 1987, 2, 45, 55, 221, 15, 670, 5304, 526, 14, 1069, 4, 405, 5, 2438, 7, 27, 85, 108, 131, 4, 5045, 5304, 3884, 405, 9, 3523, 133, 5, 50, 13, 104, 51, 66, 166, 14, 22, 157, 9, 4, 530, 239, 34, 8463, 2801, 45, 407, 31, 7, 41, 3778, 105, 21, 59, 299, 12, 38, 950, 5, 4521, 15, 45, 629, 488, 2733, 127, 6, 52, 292, 17, 4, 6936, 185, 132, 1988, 5304, 1799, 488, 2693, 47, 6, 392, 173, 4, 2, 4378, 270, 2352, 4, 1500, 7, 4, 65, 55, 73, 11, 346, 14, 20, 9, 6, 976, 2078, 7, 5293, 861, 2, 5, 4182, 30, 3127, 2, 56, 4, 841, 5, 990, 692, 8, 4, 1669, 398, 229, 10, 10, 13, 2822, 670, 5304, 14, 9, 31, 7, 27, 111, 108, 15, 2033, 19, 7836, 1429, 875, 551, 14, 22, 9, 1193, 21, 45, 4829, 5, 45, 252, 8, 2, 6, 565, 921, 3639, 39, 4, 529, 48, 25, 181, 8, 67, 35, 1732, 22, 49, 238, 60, 135, 1162, 14, 9, 290, 4, 58, 10, 10, 472, 45, 55, 878, 8, 169, 11, 374, 5687, 25, 203, 28, 8, 818, 12, 125, 4, 3077]),\n",
       "         list([1, 111, 748, 4368, 1133, 2, 2, 4, 87, 1551, 1262, 7, 31, 318, 9459, 7, 4, 498, 5076, 748, 63, 29, 5161, 220, 686, 2, 5, 17, 12, 575, 220, 2507, 17, 6, 185, 132, 2, 16, 53, 928, 11, 2, 74, 4, 438, 21, 27, 2, 589, 8, 22, 107, 2, 2, 997, 1638, 8, 35, 2076, 9019, 11, 22, 231, 54, 29, 1706, 29, 100, 2, 2425, 34, 2, 8738, 2, 5, 2, 98, 31, 2122, 33, 6, 58, 14, 3808, 1638, 8, 4, 365, 7, 2789, 3761, 356, 346, 4, 2, 1060, 63, 29, 93, 11, 5421, 11, 2, 33, 6, 58, 54, 1270, 431, 748, 7, 32, 2580, 16, 11, 94, 2, 10, 10, 4, 993, 2, 7, 4, 1766, 2634, 2164, 2, 8, 847, 8, 1450, 121, 31, 7, 27, 86, 2663, 2, 16, 6, 465, 993, 2006, 2, 573, 17, 2, 42, 4, 2, 37, 473, 6, 711, 6, 8869, 7, 328, 212, 70, 30, 258, 11, 220, 32, 7, 108, 21, 133, 12, 9, 55, 465, 849, 3711, 53, 33, 2071, 1969, 37, 70, 1144, 4, 5940, 1409, 74, 476, 37, 62, 91, 1329, 169, 4, 1330, 2, 146, 655, 2212, 5, 258, 12, 184, 2, 546, 5, 849, 2, 7, 4, 22, 1436, 18, 631, 1386, 797, 7, 4, 8712, 71, 348, 425, 4320, 1061, 19, 2, 5, 2, 11, 661, 8, 339, 2, 4, 2455, 2, 7, 4, 1962, 10, 10, 263, 787, 9, 270, 11, 6, 9466, 4, 2, 2, 121, 4, 5437, 26, 4434, 19, 68, 1372, 5, 28, 446, 6, 318, 7149, 8, 67, 51, 36, 70, 81, 8, 4392, 2294, 36, 1197, 8, 2, 2, 18, 6, 711, 4, 9909, 26, 2, 1125, 11, 14, 636, 720, 12, 426, 28, 77, 776, 8, 97, 38, 111, 7489, 6175, 168, 1239, 5189, 137, 2, 18, 27, 173, 9, 2399, 17, 6, 2, 428, 2, 232, 11, 4, 8014, 37, 272, 40, 2708, 247, 30, 656, 6, 2, 54, 2, 3292, 98, 6, 2840, 40, 558, 37, 6093, 98, 4, 2, 1197, 15, 14, 9, 57, 4893, 5, 4659, 6, 275, 711, 7937, 2, 3292, 98, 6, 2, 10, 10, 6639, 19, 14, 2, 267, 162, 711, 37, 5900, 752, 98, 4, 2, 2378, 90, 19, 6, 2, 7, 2, 1810, 2, 4, 4770, 3183, 930, 8, 508, 90, 4, 1317, 8, 4, 2, 17, 2, 3965, 1853, 4, 1494, 8, 4468, 189, 4, 2, 6287, 5774, 4, 4770, 5, 95, 271, 23, 6, 7742, 6063, 2, 5437, 33, 1526, 6, 425, 3155, 2, 4535, 1636, 7, 4, 4669, 2, 469, 4, 4552, 54, 4, 150, 5664, 2, 280, 53, 2, 2, 18, 339, 29, 1978, 27, 7885, 5, 2, 68, 1830, 19, 6571, 2, 4, 1515, 7, 263, 65, 2132, 34, 6, 5680, 7489, 43, 159, 29, 9, 4706, 9, 387, 73, 195, 584, 10, 10, 1069, 4, 58, 810, 54, 14, 6078, 117, 22, 16, 93, 5, 1069, 4, 192, 15, 12, 16, 93, 34, 6, 1766, 2, 33, 4, 5673, 7, 15, 2, 9252, 3286, 325, 12, 62, 30, 776, 8, 67, 14, 17, 6, 2, 44, 148, 687, 2, 203, 42, 203, 24, 28, 69, 2, 6676, 11, 330, 54, 29, 93, 2, 21, 845, 2, 27, 1099, 7, 819, 4, 22, 1407, 17, 6, 2, 787, 7, 2460, 2, 2, 100, 30, 4, 3737, 3617, 3169, 2321, 42, 1898, 11, 4, 3814, 42, 101, 704, 7, 101, 999, 15, 1625, 94, 2926, 180, 5, 9, 9101, 34, 2, 45, 6, 1429, 22, 60, 6, 1220, 31, 11, 94, 6408, 96, 21, 94, 749, 9, 57, 975]),\n",
       "         ...,\n",
       "         list([1, 13, 1408, 15, 8, 135, 14, 9, 35, 32, 46, 394, 20, 62, 30, 5093, 21, 45, 184, 78, 4, 1492, 910, 769, 2290, 2515, 395, 4257, 5, 1454, 11, 119, 2, 89, 1036, 4, 116, 218, 78, 21, 407, 100, 30, 128, 262, 15, 7, 185, 2280, 284, 1842, 2, 37, 315, 4, 226, 20, 272, 2942, 40, 29, 152, 60, 181, 8, 30, 50, 553, 362, 80, 119, 12, 21, 846, 5518]),\n",
       "         list([1, 11, 119, 241, 9, 4, 840, 20, 12, 468, 15, 94, 3684, 562, 791, 39, 4, 86, 107, 8, 97, 14, 31, 33, 4, 2960, 7, 743, 46, 1028, 9, 3531, 5, 4, 768, 47, 8, 79, 90, 145, 164, 162, 50, 6, 501, 119, 7, 9, 4, 78, 232, 15, 16, 224, 11, 4, 333, 20, 4, 985, 200, 5, 2, 5, 9, 1861, 8, 79, 357, 4, 20, 47, 220, 57, 206, 139, 11, 12, 5, 55, 117, 212, 13, 1276, 92, 124, 51, 45, 1188, 71, 536, 13, 520, 14, 20, 6, 2302, 7, 470]),\n",
       "         list([1, 6, 52, 7465, 430, 22, 9, 220, 2594, 8, 28, 2, 519, 3227, 6, 769, 15, 47, 6, 3482, 4067, 8, 114, 5, 33, 222, 31, 55, 184, 704, 5586, 2, 19, 346, 3153, 5, 6, 364, 350, 4, 184, 5586, 9, 133, 1810, 11, 5417, 2, 21, 4, 7298, 2, 570, 50, 2005, 2643, 9, 6, 1249, 17, 6, 2, 2, 21, 17, 6, 1211, 232, 1138, 2249, 29, 266, 56, 96, 346, 194, 308, 9, 194, 21, 29, 218, 1078, 19, 4, 78, 173, 7, 27, 2, 5698, 3406, 718, 2, 9, 6, 6907, 17, 210, 5, 3281, 5677, 47, 77, 395, 14, 172, 173, 18, 2740, 2931, 4517, 82, 127, 27, 173, 11, 6, 392, 217, 21, 50, 9, 57, 65, 12, 2, 53, 40, 35, 390, 7, 11, 4, 3567, 7, 4, 314, 74, 6, 792, 22, 2, 19, 714, 727, 5205, 382, 4, 91, 6533, 439, 19, 14, 20, 9, 1441, 5805, 1118, 4, 756, 25, 124, 4, 31, 12, 16, 93, 804, 34, 2005, 2643])],\n",
       "        dtype=object),\n",
       "  array([0, 1, 1, ..., 0, 0, 0])))"
      ]
     },
     "execution_count": 5,
     "metadata": {},
     "output_type": "execute_result"
    }
   ],
   "source": [
    "from keras.datasets import imdb\n",
    "\n",
    "a = imdb.load_data(num_words=10000) # num_words : train dataset 에서 빈도가 높은 1만개 단어 사용하겠다.는 의미\n",
    "a"
   ]
  },
  {
   "cell_type": "code",
   "execution_count": 6,
   "id": "d0217859",
   "metadata": {
    "ExecuteTime": {
     "end_time": "2022-05-08T07:08:23.771197Z",
     "start_time": "2022-05-08T07:08:23.766716Z"
    }
   },
   "outputs": [],
   "source": [
    "(train_data, train_labels), (test_data, test_labels) = a "
   ]
  },
  {
   "cell_type": "code",
   "execution_count": 7,
   "id": "99221e52",
   "metadata": {
    "ExecuteTime": {
     "end_time": "2022-05-08T07:08:24.377610Z",
     "start_time": "2022-05-08T07:08:24.372144Z"
    }
   },
   "outputs": [
    {
     "name": "stdout",
     "output_type": "stream",
     "text": [
      "(25000,)\n",
      "(25000,)\n"
     ]
    }
   ],
   "source": [
    "print(train_data.shape)\n",
    "print(test_data.shape)"
   ]
  },
  {
   "cell_type": "code",
   "execution_count": 8,
   "id": "c92847f1",
   "metadata": {
    "ExecuteTime": {
     "end_time": "2022-05-08T07:08:25.246526Z",
     "start_time": "2022-05-08T07:08:25.232759Z"
    },
    "scrolled": true
   },
   "outputs": [
    {
     "name": "stdout",
     "output_type": "stream",
     "text": [
      "218\n",
      "1\n"
     ]
    },
    {
     "data": {
      "text/plain": [
       "[1,\n",
       " 14,\n",
       " 22,\n",
       " 16,\n",
       " 43,\n",
       " 530,\n",
       " 973,\n",
       " 1622,\n",
       " 1385,\n",
       " 65,\n",
       " 458,\n",
       " 4468,\n",
       " 66,\n",
       " 3941,\n",
       " 4,\n",
       " 173,\n",
       " 36,\n",
       " 256,\n",
       " 5,\n",
       " 25,\n",
       " 100,\n",
       " 43,\n",
       " 838,\n",
       " 112,\n",
       " 50,\n",
       " 670,\n",
       " 2,\n",
       " 9,\n",
       " 35,\n",
       " 480,\n",
       " 284,\n",
       " 5,\n",
       " 150,\n",
       " 4,\n",
       " 172,\n",
       " 112,\n",
       " 167,\n",
       " 2,\n",
       " 336,\n",
       " 385,\n",
       " 39,\n",
       " 4,\n",
       " 172,\n",
       " 4536,\n",
       " 1111,\n",
       " 17,\n",
       " 546,\n",
       " 38,\n",
       " 13,\n",
       " 447,\n",
       " 4,\n",
       " 192,\n",
       " 50,\n",
       " 16,\n",
       " 6,\n",
       " 147,\n",
       " 2025,\n",
       " 19,\n",
       " 14,\n",
       " 22,\n",
       " 4,\n",
       " 1920,\n",
       " 4613,\n",
       " 469,\n",
       " 4,\n",
       " 22,\n",
       " 71,\n",
       " 87,\n",
       " 12,\n",
       " 16,\n",
       " 43,\n",
       " 530,\n",
       " 38,\n",
       " 76,\n",
       " 15,\n",
       " 13,\n",
       " 1247,\n",
       " 4,\n",
       " 22,\n",
       " 17,\n",
       " 515,\n",
       " 17,\n",
       " 12,\n",
       " 16,\n",
       " 626,\n",
       " 18,\n",
       " 2,\n",
       " 5,\n",
       " 62,\n",
       " 386,\n",
       " 12,\n",
       " 8,\n",
       " 316,\n",
       " 8,\n",
       " 106,\n",
       " 5,\n",
       " 4,\n",
       " 2223,\n",
       " 5244,\n",
       " 16,\n",
       " 480,\n",
       " 66,\n",
       " 3785,\n",
       " 33,\n",
       " 4,\n",
       " 130,\n",
       " 12,\n",
       " 16,\n",
       " 38,\n",
       " 619,\n",
       " 5,\n",
       " 25,\n",
       " 124,\n",
       " 51,\n",
       " 36,\n",
       " 135,\n",
       " 48,\n",
       " 25,\n",
       " 1415,\n",
       " 33,\n",
       " 6,\n",
       " 22,\n",
       " 12,\n",
       " 215,\n",
       " 28,\n",
       " 77,\n",
       " 52,\n",
       " 5,\n",
       " 14,\n",
       " 407,\n",
       " 16,\n",
       " 82,\n",
       " 2,\n",
       " 8,\n",
       " 4,\n",
       " 107,\n",
       " 117,\n",
       " 5952,\n",
       " 15,\n",
       " 256,\n",
       " 4,\n",
       " 2,\n",
       " 7,\n",
       " 3766,\n",
       " 5,\n",
       " 723,\n",
       " 36,\n",
       " 71,\n",
       " 43,\n",
       " 530,\n",
       " 476,\n",
       " 26,\n",
       " 400,\n",
       " 317,\n",
       " 46,\n",
       " 7,\n",
       " 4,\n",
       " 2,\n",
       " 1029,\n",
       " 13,\n",
       " 104,\n",
       " 88,\n",
       " 4,\n",
       " 381,\n",
       " 15,\n",
       " 297,\n",
       " 98,\n",
       " 32,\n",
       " 2071,\n",
       " 56,\n",
       " 26,\n",
       " 141,\n",
       " 6,\n",
       " 194,\n",
       " 7486,\n",
       " 18,\n",
       " 4,\n",
       " 226,\n",
       " 22,\n",
       " 21,\n",
       " 134,\n",
       " 476,\n",
       " 26,\n",
       " 480,\n",
       " 5,\n",
       " 144,\n",
       " 30,\n",
       " 5535,\n",
       " 18,\n",
       " 51,\n",
       " 36,\n",
       " 28,\n",
       " 224,\n",
       " 92,\n",
       " 25,\n",
       " 104,\n",
       " 4,\n",
       " 226,\n",
       " 65,\n",
       " 16,\n",
       " 38,\n",
       " 1334,\n",
       " 88,\n",
       " 12,\n",
       " 16,\n",
       " 283,\n",
       " 5,\n",
       " 16,\n",
       " 4472,\n",
       " 113,\n",
       " 103,\n",
       " 32,\n",
       " 15,\n",
       " 16,\n",
       " 5345,\n",
       " 19,\n",
       " 178,\n",
       " 32]"
      ]
     },
     "execution_count": 8,
     "metadata": {},
     "output_type": "execute_result"
    }
   ],
   "source": [
    "print( len(train_data[0]) )\n",
    "print( train_labels[0] )\n",
    "train_data[0]\n",
    "# 0번 리뷰, 218개의 단어로 구성, label = 1 ( 긍정 리뷰 )"
   ]
  },
  {
   "cell_type": "code",
   "execution_count": 9,
   "id": "6ffed570",
   "metadata": {
    "ExecuteTime": {
     "end_time": "2022-05-08T07:08:26.132435Z",
     "start_time": "2022-05-08T07:08:26.118589Z"
    }
   },
   "outputs": [
    {
     "data": {
      "text/plain": [
       "2494"
      ]
     },
     "execution_count": 9,
     "metadata": {},
     "output_type": "execute_result"
    }
   ],
   "source": [
    "max( [len(seq) for seq in train_data ] )\n",
    "\n",
    "# 최대 문장 길이의 단어는 2494개이다."
   ]
  },
  {
   "cell_type": "markdown",
   "id": "aac62902",
   "metadata": {},
   "source": [
    "### encoding -> 문장"
   ]
  },
  {
   "cell_type": "code",
   "execution_count": 10,
   "id": "1cb12de5",
   "metadata": {
    "ExecuteTime": {
     "end_time": "2022-05-08T07:08:28.968138Z",
     "start_time": "2022-05-08T07:08:28.889168Z"
    }
   },
   "outputs": [
    {
     "data": {
      "text/plain": [
       "\"the as you with out themselves powerful lets loves their becomes reaching had journalist of lot from anyone to have after out atmosphere never more room and it so heart shows to years of every never going and help moments or of every chest visual movie except her was several of enough more with is now current film as you of mine potentially unfortunately of you than him that with out themselves her get for was camp of you movie sometimes movie that with scary but and to story wonderful that in seeing in character to of 70s musicians with heart had shadows they of here that with her serious to have does when from why what have critics they is you that isn't one will very to as itself with other and in of seen over landed for anyone of and br show's to whether from than out themselves history he name half some br of and odd was two most of mean for 1 any an boat she he should is thought frog but of script you not while history he heart to real at barrel but when from one bit then have two of script their with her nobody most that with wasn't to with armed acting watch an for with heartfelt film want an\""
      ]
     },
     "execution_count": 10,
     "metadata": {},
     "output_type": "execute_result"
    }
   ],
   "source": [
    "word_index = imdb.get_word_index() # imdb dataset 정의된 문장 : 빈도 수 딕셔너리 사전.\n",
    "word_index\n",
    "\n",
    "r_word_index = dict( [(value, key) for (key,value) in word_index.items() ] ) # index : key 값 으로 순서 바꿈\n",
    "r_word_index\n",
    "\n",
    "dec = ' '.join( [r_word_index[i] for i in train_data[0]] ) # train [0] 번 문장 decode\n",
    "dec"
   ]
  },
  {
   "cell_type": "markdown",
   "id": "f568a3a4",
   "metadata": {},
   "source": [
    "### one-hot encoding"
   ]
  },
  {
   "cell_type": "code",
   "execution_count": 11,
   "id": "42a7ffd9",
   "metadata": {
    "ExecuteTime": {
     "end_time": "2022-05-08T07:08:31.106761Z",
     "start_time": "2022-05-08T07:08:30.148581Z"
    }
   },
   "outputs": [],
   "source": [
    "import numpy as np\n",
    "\n",
    "def one_hot_encoding(seq, dimension = 10000): # seq : 숫자 index 정보를 갖고 있는 한 문장의 리스트 / dimension : 단어 1만개 one-hot encoding\n",
    "        results = np.zeros(( len(seq) , dimension ))\n",
    "        for idx, s in enumerate(seq):\n",
    "            results[idx, s] = 1.0\n",
    "            \n",
    "        return results\n",
    "\n",
    "x_train = one_hot_encoding(train_data)\n",
    "x_test = one_hot_encoding(test_data)"
   ]
  },
  {
   "cell_type": "code",
   "execution_count": 12,
   "id": "d7f2864e",
   "metadata": {
    "ExecuteTime": {
     "end_time": "2022-05-08T07:08:31.909035Z",
     "start_time": "2022-05-08T07:08:31.900504Z"
    }
   },
   "outputs": [
    {
     "data": {
      "text/plain": [
       "array([0., 1., 1., ..., 0., 0., 0.])"
      ]
     },
     "execution_count": 12,
     "metadata": {},
     "output_type": "execute_result"
    }
   ],
   "source": [
    "x_train[0]"
   ]
  },
  {
   "cell_type": "code",
   "execution_count": 13,
   "id": "3796d9c1",
   "metadata": {
    "ExecuteTime": {
     "end_time": "2022-05-08T07:08:32.509265Z",
     "start_time": "2022-05-08T07:08:32.504296Z"
    }
   },
   "outputs": [],
   "source": [
    "y_train = np.asarray(train_labels).astype('float32')\n",
    "y_test = np.asarray(test_labels).astype('float32')"
   ]
  },
  {
   "cell_type": "markdown",
   "id": "faf1c4c2",
   "metadata": {},
   "source": [
    "### 모델링"
   ]
  },
  {
   "cell_type": "code",
   "execution_count": 19,
   "id": "242071d3",
   "metadata": {
    "ExecuteTime": {
     "end_time": "2022-05-08T07:12:36.521119Z",
     "start_time": "2022-05-08T07:12:36.478577Z"
    }
   },
   "outputs": [
    {
     "name": "stdout",
     "output_type": "stream",
     "text": [
      "Model: \"sequential_2\"\n",
      "_________________________________________________________________\n",
      " Layer (type)                Output Shape              Param #   \n",
      "=================================================================\n",
      " dense_6 (Dense)             (None, 16)                160016    \n",
      "                                                                 \n",
      " dense_7 (Dense)             (None, 16)                272       \n",
      "                                                                 \n",
      " dense_8 (Dense)             (None, 1)                 17        \n",
      "                                                                 \n",
      "=================================================================\n",
      "Total params: 160,305\n",
      "Trainable params: 160,305\n",
      "Non-trainable params: 0\n",
      "_________________________________________________________________\n"
     ]
    }
   ],
   "source": [
    "model = models.Sequential()\n",
    "model.add(layers.Dense(16, activation='relu', input_shape=(10000, )))\n",
    "model.add(layers.Dense(16, activation='relu'))\n",
    "model.add(layers.Dense(1, activation='sigmoid'))\n",
    "\n",
    "model.summary()"
   ]
  },
  {
   "cell_type": "code",
   "execution_count": 20,
   "id": "ac55b234",
   "metadata": {
    "ExecuteTime": {
     "end_time": "2022-05-08T09:31:38.333099Z",
     "start_time": "2022-05-08T09:31:38.248389Z"
    }
   },
   "outputs": [],
   "source": [
    "model.compile( optimizer='rmsprop', loss='binary_crossentropy', metrics=['accuracy'])"
   ]
  },
  {
   "cell_type": "code",
   "execution_count": 21,
   "id": "e40b1c8d",
   "metadata": {
    "ExecuteTime": {
     "end_time": "2022-05-08T09:35:40.503526Z",
     "start_time": "2022-05-08T09:35:40.500132Z"
    }
   },
   "outputs": [],
   "source": [
    "x_val = x_train[:10000]\n",
    "partial_x_train = x_train[10000:]\n",
    "\n",
    "y_val = y_train[:10000]\n",
    "partial_y_train = y_train[10000:]"
   ]
  },
  {
   "cell_type": "code",
   "execution_count": 22,
   "id": "bacfa88b",
   "metadata": {
    "ExecuteTime": {
     "end_time": "2022-05-08T09:37:45.771282Z",
     "start_time": "2022-05-08T09:37:33.701083Z"
    }
   },
   "outputs": [
    {
     "name": "stdout",
     "output_type": "stream",
     "text": [
      "Epoch 1/20\n"
     ]
    },
    {
     "name": "stderr",
     "output_type": "stream",
     "text": [
      "2022-05-08 18:37:34.992906: W tensorflow/core/platform/profile_utils/cpu_utils.cc:128] Failed to get CPU frequency: 0 Hz\n",
      "2022-05-08 18:37:35.254848: I tensorflow/core/grappler/optimizers/custom_graph_optimizer_registry.cc:113] Plugin optimizer for device_type GPU is enabled.\n"
     ]
    },
    {
     "name": "stdout",
     "output_type": "stream",
     "text": [
      "30/30 [==============================] - 3s 42ms/step - loss: 0.5204 - accuracy: 0.7884 - val_loss: 0.3889 - val_accuracy: 0.8711\n",
      "Epoch 2/20\n",
      " 1/30 [>.............................] - ETA: 0s - loss: 0.3522 - accuracy: 0.8945"
     ]
    },
    {
     "name": "stderr",
     "output_type": "stream",
     "text": [
      "2022-05-08 18:37:37.394924: I tensorflow/core/grappler/optimizers/custom_graph_optimizer_registry.cc:113] Plugin optimizer for device_type GPU is enabled.\n"
     ]
    },
    {
     "name": "stdout",
     "output_type": "stream",
     "text": [
      "30/30 [==============================] - 1s 18ms/step - loss: 0.3058 - accuracy: 0.9019 - val_loss: 0.3359 - val_accuracy: 0.8661\n",
      "Epoch 3/20\n",
      "30/30 [==============================] - 0s 16ms/step - loss: 0.2226 - accuracy: 0.9293 - val_loss: 0.3003 - val_accuracy: 0.8788\n",
      "Epoch 4/20\n",
      "30/30 [==============================] - 0s 14ms/step - loss: 0.1691 - accuracy: 0.9467 - val_loss: 0.2780 - val_accuracy: 0.8873\n",
      "Epoch 5/20\n",
      "30/30 [==============================] - 0s 14ms/step - loss: 0.1358 - accuracy: 0.9587 - val_loss: 0.3016 - val_accuracy: 0.8816\n",
      "Epoch 6/20\n",
      "30/30 [==============================] - 0s 14ms/step - loss: 0.1154 - accuracy: 0.9635 - val_loss: 0.3066 - val_accuracy: 0.8831\n",
      "Epoch 7/20\n",
      "30/30 [==============================] - 0s 14ms/step - loss: 0.0954 - accuracy: 0.9713 - val_loss: 0.3164 - val_accuracy: 0.8822\n",
      "Epoch 8/20\n",
      "30/30 [==============================] - 0s 14ms/step - loss: 0.0764 - accuracy: 0.9796 - val_loss: 0.3512 - val_accuracy: 0.8782\n",
      "Epoch 9/20\n",
      "30/30 [==============================] - 0s 14ms/step - loss: 0.0630 - accuracy: 0.9834 - val_loss: 0.3612 - val_accuracy: 0.8799\n",
      "Epoch 10/20\n",
      "30/30 [==============================] - 0s 15ms/step - loss: 0.0504 - accuracy: 0.9881 - val_loss: 0.3876 - val_accuracy: 0.8776\n",
      "Epoch 11/20\n",
      "30/30 [==============================] - 0s 15ms/step - loss: 0.0404 - accuracy: 0.9917 - val_loss: 0.4307 - val_accuracy: 0.8739\n",
      "Epoch 12/20\n",
      "30/30 [==============================] - 0s 15ms/step - loss: 0.0332 - accuracy: 0.9934 - val_loss: 0.4494 - val_accuracy: 0.8771\n",
      "Epoch 13/20\n",
      "30/30 [==============================] - 0s 15ms/step - loss: 0.0257 - accuracy: 0.9954 - val_loss: 0.4852 - val_accuracy: 0.8728\n",
      "Epoch 14/20\n",
      "30/30 [==============================] - 0s 14ms/step - loss: 0.0216 - accuracy: 0.9965 - val_loss: 0.5142 - val_accuracy: 0.8724\n",
      "Epoch 15/20\n",
      "30/30 [==============================] - 0s 14ms/step - loss: 0.0201 - accuracy: 0.9960 - val_loss: 0.5414 - val_accuracy: 0.8716\n",
      "Epoch 16/20\n",
      "30/30 [==============================] - 0s 14ms/step - loss: 0.0103 - accuracy: 0.9993 - val_loss: 0.5681 - val_accuracy: 0.8712\n",
      "Epoch 17/20\n",
      "30/30 [==============================] - 0s 14ms/step - loss: 0.0122 - accuracy: 0.9980 - val_loss: 0.6008 - val_accuracy: 0.8702\n",
      "Epoch 18/20\n",
      "30/30 [==============================] - 0s 14ms/step - loss: 0.0082 - accuracy: 0.9989 - val_loss: 0.6461 - val_accuracy: 0.8676\n",
      "Epoch 19/20\n",
      "30/30 [==============================] - 0s 14ms/step - loss: 0.0070 - accuracy: 0.9989 - val_loss: 0.7448 - val_accuracy: 0.8587\n",
      "Epoch 20/20\n",
      "30/30 [==============================] - 0s 14ms/step - loss: 0.0036 - accuracy: 0.9997 - val_loss: 0.7007 - val_accuracy: 0.8671\n"
     ]
    }
   ],
   "source": [
    "# fit (epoch, batch)\n",
    "history = model.fit(partial_x_train, partial_y_train,\n",
    "                   epochs=20,\n",
    "                   batch_size=512,\n",
    "                   validation_data=(x_val,y_val))"
   ]
  },
  {
   "cell_type": "code",
   "execution_count": 27,
   "id": "477cb4e2",
   "metadata": {
    "ExecuteTime": {
     "end_time": "2022-05-08T09:39:37.782485Z",
     "start_time": "2022-05-08T09:39:37.778081Z"
    }
   },
   "outputs": [
    {
     "data": {
      "text/plain": [
       "dict_keys(['loss', 'accuracy', 'val_loss', 'val_accuracy'])"
      ]
     },
     "execution_count": 27,
     "metadata": {},
     "output_type": "execute_result"
    }
   ],
   "source": [
    "# type(history)\n",
    "history_dict = history.history\n",
    "history_dict.keys()"
   ]
  },
  {
   "cell_type": "code",
   "execution_count": 33,
   "id": "875d22fd",
   "metadata": {
    "ExecuteTime": {
     "end_time": "2022-05-08T09:46:14.870069Z",
     "start_time": "2022-05-08T09:46:14.778916Z"
    }
   },
   "outputs": [
    {
     "data": {
      "image/png": "[encoded data removed]",
      "text/plain": [
       "<Figure size 432x288 with 1 Axes>"
      ]
     },
     "metadata": {
      "needs_background": "light"
     },
     "output_type": "display_data"
    }
   ],
   "source": [
    "loss = history_dict['loss']\n",
    "acc =  history_dict['accuracy']\n",
    "val_loss = history_dict['val_loss']\n",
    "val_acc = history_dict['val_accuracy']\n",
    "\n",
    "epochs = range(20)\n",
    "\n",
    "plt.plot(epochs, loss, 'bo', label='training-loss')\n",
    "plt.plot(epochs, val_loss, 'r', label='validation-loss')\n",
    "\n",
    "plt.xlabel('Epochs')\n",
    "plt.ylabel('Loss')\n",
    "plt.title('LOSS')\n",
    "plt.legend()\n",
    "plt.show()"
   ]
  },
  {
   "cell_type": "code",
   "execution_count": 34,
   "id": "c4e9482d",
   "metadata": {
    "ExecuteTime": {
     "end_time": "2022-05-08T09:46:47.567183Z",
     "start_time": "2022-05-08T09:46:47.480814Z"
    }
   },
   "outputs": [
    {
     "data": {
      "image/png": "[encoded data removed]",
      "text/plain": [
       "<Figure size 432x288 with 1 Axes>"
      ]
     },
     "metadata": {
      "needs_background": "light"
     },
     "output_type": "display_data"
    }
   ],
   "source": [
    "plt.plot(epochs, acc, 'bo', label='training-acc')\n",
    "plt.plot(epochs, val_acc, 'r', label='validation-acc')\n",
    "\n",
    "plt.xlabel('Epochs')\n",
    "plt.ylabel('acc')\n",
    "plt.title('ACC')\n",
    "plt.legend()\n",
    "plt.show()"
   ]
  },
  {
   "cell_type": "markdown",
   "id": "7da5aed5",
   "metadata": {},
   "source": [
    "### overfittig 고려하여 재학습"
   ]
  },
  {
   "cell_type": "code",
   "execution_count": 37,
   "id": "c5d86672",
   "metadata": {
    "ExecuteTime": {
     "end_time": "2022-05-08T09:54:18.106274Z",
     "start_time": "2022-05-08T09:54:08.881575Z"
    }
   },
   "outputs": [
    {
     "name": "stdout",
     "output_type": "stream",
     "text": [
      "Epoch 1/4\n",
      " 1/49 [..............................] - ETA: 16s - loss: 0.6991 - accuracy: 0.4902"
     ]
    },
    {
     "name": "stderr",
     "output_type": "stream",
     "text": [
      "2022-05-08 18:54:10.282311: I tensorflow/core/grappler/optimizers/custom_graph_optimizer_registry.cc:113] Plugin optimizer for device_type GPU is enabled.\n"
     ]
    },
    {
     "name": "stdout",
     "output_type": "stream",
     "text": [
      "49/49 [==============================] - 2s 26ms/step - loss: 0.4562 - accuracy: 0.8216 - val_loss: 0.2831 - val_accuracy: 0.9158\n",
      "Epoch 2/4\n",
      " 1/49 [..............................] - ETA: 0s - loss: 0.2883 - accuracy: 0.9043"
     ]
    },
    {
     "name": "stderr",
     "output_type": "stream",
     "text": [
      "2022-05-08 18:54:11.553759: I tensorflow/core/grappler/optimizers/custom_graph_optimizer_registry.cc:113] Plugin optimizer for device_type GPU is enabled.\n"
     ]
    },
    {
     "name": "stdout",
     "output_type": "stream",
     "text": [
      "49/49 [==============================] - 1s 14ms/step - loss: 0.2604 - accuracy: 0.9107 - val_loss: 0.1951 - val_accuracy: 0.9395\n",
      "Epoch 3/4\n",
      "49/49 [==============================] - 1s 13ms/step - loss: 0.1999 - accuracy: 0.9276 - val_loss: 0.1629 - val_accuracy: 0.9455\n",
      "Epoch 4/4\n",
      "49/49 [==============================] - 1s 12ms/step - loss: 0.1657 - accuracy: 0.9418 - val_loss: 0.1284 - val_accuracy: 0.9613\n",
      "782/782 [==============================] - 3s 4ms/step - loss: 0.3030 - accuracy: 0.8821\n"
     ]
    }
   ],
   "source": [
    "model = models.Sequential()\n",
    "\n",
    "model.add(layers.Dense(16, activation='relu', input_shape=(10000, )))\n",
    "model.add(layers.Dense(16, activation='relu'))\n",
    "model.add(layers.Dense(1, activation='sigmoid'))\n",
    "\n",
    "model.compile( optimizer='rmsprop', loss='binary_crossentropy', metrics=['accuracy'])\n",
    "\n",
    "history = model.fit(x_train, y_train, epochs=4, batch_size = 512, validation_data=(x_val,y_val))\n",
    "\n",
    "result = model.evaluate(x_test, y_test)"
   ]
  },
  {
   "cell_type": "code",
   "execution_count": 38,
   "id": "33d15631",
   "metadata": {
    "ExecuteTime": {
     "end_time": "2022-05-08T09:54:48.060284Z",
     "start_time": "2022-05-08T09:54:47.959633Z"
    }
   },
   "outputs": [
    {
     "data": {
      "image/png": "[encoded data removed]",
      "text/plain": [
       "<Figure size 432x288 with 1 Axes>"
      ]
     },
     "metadata": {
      "needs_background": "light"
     },
     "output_type": "display_data"
    }
   ],
   "source": [
    "loss = history.history['loss']\n",
    "val_loss = history.history['val_loss']\n",
    "\n",
    "epochs = range(4)\n",
    "\n",
    "plt.plot(epochs, loss, 'bo', label='training-loss')\n",
    "plt.plot(epochs, val_loss, 'r', label='validation-loss')\n",
    "\n",
    "plt.xlabel('Epochs')\n",
    "plt.ylabel('Loss')\n",
    "plt.title('LOSS')\n",
    "plt.legend()\n",
    "plt.show()"
   ]
  },
  {
   "cell_type": "code",
   "execution_count": 39,
   "id": "96720ed0",
   "metadata": {
    "ExecuteTime": {
     "end_time": "2022-05-08T09:55:00.113821Z",
     "start_time": "2022-05-08T09:55:00.109831Z"
    }
   },
   "outputs": [
    {
     "data": {
      "text/plain": [
       "[0.30297157168388367, 0.882080078125]"
      ]
     },
     "execution_count": 39,
     "metadata": {},
     "output_type": "execute_result"
    }
   ],
   "source": [
    "result"
   ]
  },
  {
   "cell_type": "code",
   "execution_count": 40,
   "id": "889bdc74",
   "metadata": {
    "ExecuteTime": {
     "end_time": "2022-05-08T09:56:25.593079Z",
     "start_time": "2022-05-08T09:56:20.062258Z"
    }
   },
   "outputs": [
    {
     "name": "stderr",
     "output_type": "stream",
     "text": [
      "2022-05-08 18:56:21.630296: I tensorflow/core/grappler/optimizers/custom_graph_optimizer_registry.cc:113] Plugin optimizer for device_type GPU is enabled.\n"
     ]
    },
    {
     "data": {
      "text/plain": [
       "array([[0.1479591 ],\n",
       "       [0.99800986],\n",
       "       [0.74249613],\n",
       "       ...,\n",
       "       [0.07733873],\n",
       "       [0.04024633],\n",
       "       [0.60433865]], dtype=float32)"
      ]
     },
     "execution_count": 40,
     "metadata": {},
     "output_type": "execute_result"
    }
   ],
   "source": [
    "model.predict(x_test) # 0~1의 확률값. 1에 가까울수록 긍정으로 예측합니다. "
   ]
  },
  {
   "cell_type": "markdown",
   "id": "9a0d066d",
   "metadata": {},
   "source": [
    "## 다중분류 (reuters 뉴스토픽)"
   ]
  },
  {
   "cell_type": "code",
   "execution_count": 57,
   "id": "d3574d13",
   "metadata": {
    "ExecuteTime": {
     "end_time": "2022-05-11T11:54:21.017650Z",
     "start_time": "2022-05-11T11:54:20.746812Z"
    }
   },
   "outputs": [
    {
     "name": "stdout",
     "output_type": "stream",
     "text": [
      "8982\n",
      "2246\n"
     ]
    }
   ],
   "source": [
    "from keras.datasets import reuters\n",
    "\n",
    "(train_data, train_labels), (test_data, test_labels) = reuters.load_data( num_words= 10000)\n",
    "\n",
    "print( len(train_data) )\n",
    "print( len(test_data) )"
   ]
  },
  {
   "cell_type": "code",
   "execution_count": 58,
   "id": "f18a5350",
   "metadata": {
    "ExecuteTime": {
     "end_time": "2022-05-11T11:54:23.544410Z",
     "start_time": "2022-05-11T11:54:23.508723Z"
    }
   },
   "outputs": [
    {
     "data": {
      "text/plain": [
       "'the of of mln loss for plc said at only ended said commonwealth could 1 traders now april 0 a after said from 1985 and from foreign 000 april 0 prices its account year a but in this mln home an states earlier and rise and revs vs 000 its 16 vs 000 a but 3 psbr oils several and shareholders and dividend vs 000 its all 4 vs 000 1 mln agreed largely april 0 are 2 states will billion total and against 000 pct dlrs'"
      ]
     },
     "execution_count": 58,
     "metadata": {},
     "output_type": "execute_result"
    }
   ],
   "source": [
    "word_index = reuters.get_word_index() # imdb dataset 정의된 문장 : 빈도 수 딕셔너리 사전.\n",
    "word_index\n",
    "\n",
    "r_word_index = dict( [(value, key) for (key,value) in word_index.items() ] ) # index : key 값 으로 순서 바꿈\n",
    "r_word_index\n",
    "\n",
    "dec = ' '.join( [r_word_index[i] for i in train_data[0]] ) # train [0] 번 문장 decode\n",
    "dec"
   ]
  },
  {
   "cell_type": "code",
   "execution_count": 59,
   "id": "b4e15031",
   "metadata": {
    "ExecuteTime": {
     "end_time": "2022-05-11T11:54:25.395355Z",
     "start_time": "2022-05-11T11:54:25.388113Z"
    }
   },
   "outputs": [
    {
     "data": {
      "text/plain": [
       "3"
      ]
     },
     "execution_count": 59,
     "metadata": {},
     "output_type": "execute_result"
    }
   ],
   "source": [
    "train_labels[0] # train [0] 번 문장 = 3번 토픽으로 분류."
   ]
  },
  {
   "cell_type": "markdown",
   "id": "41d0e91b",
   "metadata": {},
   "source": [
    "### input data -> vetorize "
   ]
  },
  {
   "cell_type": "code",
   "execution_count": 60,
   "id": "76a642c0",
   "metadata": {
    "ExecuteTime": {
     "end_time": "2022-05-11T11:56:22.899989Z",
     "start_time": "2022-05-11T11:56:22.715870Z"
    }
   },
   "outputs": [],
   "source": [
    "def vectorize_seq(seq, dimension=10000):\n",
    "    results = np.zeros((len(seq), dimension))\n",
    "    for i, s in enumerate(seq):\n",
    "        results[i, s] = 1.\n",
    "        \n",
    "    return results\n",
    "\n",
    "x_train = vectorize_seq(train_data)\n",
    "x_test = vectorize_seq(test_data)"
   ]
  },
  {
   "cell_type": "markdown",
   "id": "5fc435ba",
   "metadata": {},
   "source": [
    "### label one-hot encoding"
   ]
  },
  {
   "cell_type": "code",
   "execution_count": 61,
   "id": "2afe18fd",
   "metadata": {
    "ExecuteTime": {
     "end_time": "2022-05-11T11:58:20.551279Z",
     "start_time": "2022-05-11T11:58:20.511294Z"
    }
   },
   "outputs": [],
   "source": [
    "import numpy as np\n",
    "\n",
    "def one_hot_encoding(seq, dimension = 10000): # seq : 숫자 index 정보를 갖고 있는 한 문장의 리스트 / dimension : 단어 1만개 one-hot encoding\n",
    "        results = np.zeros(( len(seq) , dimension ))\n",
    "        for idx, s in enumerate(seq):\n",
    "            results[idx, s] = 1.0\n",
    "            \n",
    "        return results\n",
    "\n",
    "one_hot_train_labels = one_hot_encoding(train_labels)\n",
    "one_hot_test_labels = one_hot_encoding(test_labels)"
   ]
  },
  {
   "cell_type": "code",
   "execution_count": 63,
   "id": "3b9fae96",
   "metadata": {
    "ExecuteTime": {
     "end_time": "2022-05-11T11:58:57.179022Z",
     "start_time": "2022-05-11T11:58:57.171744Z"
    }
   },
   "outputs": [
    {
     "data": {
      "text/plain": [
       "(8982, 46)"
      ]
     },
     "execution_count": 63,
     "metadata": {},
     "output_type": "execute_result"
    }
   ],
   "source": [
    "from keras.utils.np_utils import to_categorical\n",
    "\n",
    "one_hot_train_labels = to_categorical(train_labels)\n",
    "one_hot_test_labels = to_categorical(test_labels)\n",
    "one_hot_train_labels.shape"
   ]
  },
  {
   "cell_type": "markdown",
   "id": "49b94337",
   "metadata": {},
   "source": [
    "### 모델링"
   ]
  },
  {
   "cell_type": "code",
   "execution_count": 65,
   "id": "7fb127fa",
   "metadata": {
    "ExecuteTime": {
     "end_time": "2022-05-11T11:59:08.525331Z",
     "start_time": "2022-05-11T11:59:08.486683Z"
    }
   },
   "outputs": [
    {
     "name": "stdout",
     "output_type": "stream",
     "text": [
      "Model: \"sequential_9\"\n",
      "_________________________________________________________________\n",
      " Layer (type)                Output Shape              Param #   \n",
      "=================================================================\n",
      " dense_27 (Dense)            (None, 64)                640064    \n",
      "                                                                 \n",
      " dense_28 (Dense)            (None, 64)                4160      \n",
      "                                                                 \n",
      " dense_29 (Dense)            (None, 46)                2990      \n",
      "                                                                 \n",
      "=================================================================\n",
      "Total params: 647,214\n",
      "Trainable params: 647,214\n",
      "Non-trainable params: 0\n",
      "_________________________________________________________________\n"
     ]
    }
   ],
   "source": [
    "model = models.Sequential()\n",
    "model.add(layers.Dense(64, activation = 'relu', input_shape=(10000,)))\n",
    "model.add(layers.Dense(64, activation = 'relu'))\n",
    "model.add(layers.Dense(46, activation = 'softmax'))\n",
    "\n",
    "model.compile(optimizer='rmsprop', loss='categorical_crossentropy', metrics=['accuracy'])\n",
    "model.summary()"
   ]
  },
  {
   "cell_type": "code",
   "execution_count": 66,
   "id": "781f2c23",
   "metadata": {
    "ExecuteTime": {
     "end_time": "2022-05-11T11:59:43.707814Z",
     "start_time": "2022-05-11T11:59:43.704735Z"
    }
   },
   "outputs": [],
   "source": [
    "x_val = x_train[:1000]\n",
    "partial_x_train = x_train[1000:]\n",
    "\n",
    "y_val = one_hot_train_labels[:1000]\n",
    "partial_y_train = one_hot_train_labels[1000:]"
   ]
  },
  {
   "cell_type": "code",
   "execution_count": 67,
   "id": "ecadeae6",
   "metadata": {
    "ExecuteTime": {
     "end_time": "2022-05-11T11:59:53.889222Z",
     "start_time": "2022-05-11T11:59:47.716336Z"
    }
   },
   "outputs": [
    {
     "name": "stdout",
     "output_type": "stream",
     "text": [
      "Epoch 1/20\n"
     ]
    },
    {
     "name": "stderr",
     "output_type": "stream",
     "text": [
      "2022-05-11 20:59:48.562090: I tensorflow/core/grappler/optimizers/custom_graph_optimizer_registry.cc:113] Plugin optimizer for device_type GPU is enabled.\n"
     ]
    },
    {
     "name": "stdout",
     "output_type": "stream",
     "text": [
      "16/16 [==============================] - 1s 36ms/step - loss: 2.5964 - accuracy: 0.5190 - val_loss: 1.7100 - val_accuracy: 0.6540\n",
      "Epoch 2/20\n",
      " 1/16 [>.............................] - ETA: 0s - loss: 1.5471 - accuracy: 0.7012"
     ]
    },
    {
     "name": "stderr",
     "output_type": "stream",
     "text": [
      "2022-05-11 20:59:49.516360: I tensorflow/core/grappler/optimizers/custom_graph_optimizer_registry.cc:113] Plugin optimizer for device_type GPU is enabled.\n"
     ]
    },
    {
     "name": "stdout",
     "output_type": "stream",
     "text": [
      "16/16 [==============================] - 0s 15ms/step - loss: 1.3771 - accuracy: 0.7160 - val_loss: 1.2690 - val_accuracy: 0.7350\n",
      "Epoch 3/20\n",
      "16/16 [==============================] - 0s 15ms/step - loss: 1.0105 - accuracy: 0.7850 - val_loss: 1.1015 - val_accuracy: 0.7670\n",
      "Epoch 4/20\n",
      "16/16 [==============================] - 0s 14ms/step - loss: 0.7947 - accuracy: 0.8339 - val_loss: 1.0171 - val_accuracy: 0.7920\n",
      "Epoch 5/20\n",
      "16/16 [==============================] - 0s 14ms/step - loss: 0.6268 - accuracy: 0.8686 - val_loss: 0.9471 - val_accuracy: 0.8060\n",
      "Epoch 6/20\n",
      "16/16 [==============================] - 0s 13ms/step - loss: 0.5026 - accuracy: 0.8948 - val_loss: 0.9181 - val_accuracy: 0.8160\n",
      "Epoch 7/20\n",
      "16/16 [==============================] - 0s 14ms/step - loss: 0.4018 - accuracy: 0.9158 - val_loss: 0.8986 - val_accuracy: 0.8210\n",
      "Epoch 8/20\n",
      "16/16 [==============================] - 0s 14ms/step - loss: 0.3236 - accuracy: 0.9325 - val_loss: 0.9004 - val_accuracy: 0.8190\n",
      "Epoch 9/20\n",
      "16/16 [==============================] - 0s 14ms/step - loss: 0.2692 - accuracy: 0.9391 - val_loss: 0.9095 - val_accuracy: 0.8240\n",
      "Epoch 10/20\n",
      "16/16 [==============================] - 0s 14ms/step - loss: 0.2283 - accuracy: 0.9480 - val_loss: 0.9157 - val_accuracy: 0.8240\n",
      "Epoch 11/20\n",
      "16/16 [==============================] - 0s 14ms/step - loss: 0.1963 - accuracy: 0.9500 - val_loss: 0.9498 - val_accuracy: 0.8220\n",
      "Epoch 12/20\n",
      "16/16 [==============================] - 0s 14ms/step - loss: 0.1743 - accuracy: 0.9518 - val_loss: 0.9584 - val_accuracy: 0.8150\n",
      "Epoch 13/20\n",
      "16/16 [==============================] - 0s 15ms/step - loss: 0.1580 - accuracy: 0.9544 - val_loss: 0.9804 - val_accuracy: 0.8180\n",
      "Epoch 14/20\n",
      "16/16 [==============================] - 0s 14ms/step - loss: 0.1447 - accuracy: 0.9555 - val_loss: 1.0407 - val_accuracy: 0.8070\n",
      "Epoch 15/20\n",
      "16/16 [==============================] - 0s 14ms/step - loss: 0.1344 - accuracy: 0.9550 - val_loss: 0.9838 - val_accuracy: 0.8210\n",
      "Epoch 16/20\n",
      "16/16 [==============================] - 0s 14ms/step - loss: 0.1281 - accuracy: 0.9567 - val_loss: 1.0488 - val_accuracy: 0.8110\n",
      "Epoch 17/20\n",
      "16/16 [==============================] - 0s 14ms/step - loss: 0.1197 - accuracy: 0.9587 - val_loss: 1.0312 - val_accuracy: 0.8170\n",
      "Epoch 18/20\n",
      "16/16 [==============================] - 0s 14ms/step - loss: 0.1160 - accuracy: 0.9572 - val_loss: 1.0723 - val_accuracy: 0.8140\n",
      "Epoch 19/20\n",
      "16/16 [==============================] - 0s 14ms/step - loss: 0.1103 - accuracy: 0.9607 - val_loss: 1.0931 - val_accuracy: 0.8100\n",
      "Epoch 20/20\n",
      "16/16 [==============================] - 0s 14ms/step - loss: 0.1149 - accuracy: 0.9559 - val_loss: 1.1150 - val_accuracy: 0.8090\n"
     ]
    }
   ],
   "source": [
    "history = model.fit( partial_x_train, partial_y_train, epochs=20, batch_size=512, validation_data=(x_val,y_val))"
   ]
  },
  {
   "cell_type": "code",
   "execution_count": 74,
   "id": "f749c6b7",
   "metadata": {
    "ExecuteTime": {
     "end_time": "2022-05-11T12:02:14.160300Z",
     "start_time": "2022-05-11T12:02:14.154311Z"
    }
   },
   "outputs": [
    {
     "data": {
      "text/plain": [
       "dict_keys(['loss', 'accuracy', 'val_loss', 'val_accuracy'])"
      ]
     },
     "execution_count": 74,
     "metadata": {},
     "output_type": "execute_result"
    }
   ],
   "source": [
    "history.history.keys()"
   ]
  },
  {
   "cell_type": "code",
   "execution_count": 84,
   "id": "80908da1",
   "metadata": {
    "ExecuteTime": {
     "end_time": "2022-05-11T12:15:24.716295Z",
     "start_time": "2022-05-11T12:15:24.629503Z"
    }
   },
   "outputs": [
    {
     "data": {
      "image/png": "[encoded data removed]",
      "text/plain": [
       "<Figure size 432x288 with 1 Axes>"
      ]
     },
     "metadata": {
      "needs_background": "light"
     },
     "output_type": "display_data"
    }
   ],
   "source": [
    "plt.clf() # clear figure\n",
    "\n",
    "acc=history.history['accuracy']\n",
    "val_acc = history.history['val_accuracy']\n",
    "epochs = range(1, len(acc)+1)\n",
    "\n",
    "plt.plot(epochs, acc, 'bo', label = \"train_acc\")\n",
    "plt.plot(epochs, val_acc, 'black', label = \"val_acc\")\n",
    "plt.legend()\n",
    "plt.show()"
   ]
  },
  {
   "cell_type": "code",
   "execution_count": null,
   "id": "77d0bcd5",
   "metadata": {},
   "outputs": [],
   "source": [
    "## 8~9번째부터 accuracy 떨어짐 (과대적합) epochs 조절"
   ]
  },
  {
   "cell_type": "markdown",
   "id": "dba1c2ae",
   "metadata": {},
   "source": [
    "### overfitting 고려하여 재학습"
   ]
  },
  {
   "cell_type": "code",
   "execution_count": 85,
   "id": "9fd9ec27",
   "metadata": {
    "ExecuteTime": {
     "end_time": "2022-05-11T12:18:19.015349Z",
     "start_time": "2022-05-11T12:18:15.182644Z"
    }
   },
   "outputs": [
    {
     "name": "stdout",
     "output_type": "stream",
     "text": [
      "Epoch 1/9\n",
      " 5/16 [========>.....................] - ETA: 0s - loss: 3.4074 - accuracy: 0.3785"
     ]
    },
    {
     "name": "stderr",
     "output_type": "stream",
     "text": [
      "2022-05-11 21:18:15.980928: I tensorflow/core/grappler/optimizers/custom_graph_optimizer_registry.cc:113] Plugin optimizer for device_type GPU is enabled.\n"
     ]
    },
    {
     "name": "stdout",
     "output_type": "stream",
     "text": [
      "16/16 [==============================] - 1s 26ms/step - loss: 2.5602 - accuracy: 0.5314 - val_loss: 1.6758 - val_accuracy: 0.6630\n",
      "Epoch 2/9\n",
      " 8/16 [==============>...............] - ETA: 0s - loss: 1.4528 - accuracy: 0.7043"
     ]
    },
    {
     "name": "stderr",
     "output_type": "stream",
     "text": [
      "2022-05-11 21:18:16.451768: I tensorflow/core/grappler/optimizers/custom_graph_optimizer_registry.cc:113] Plugin optimizer for device_type GPU is enabled.\n"
     ]
    },
    {
     "name": "stdout",
     "output_type": "stream",
     "text": [
      "16/16 [==============================] - 0s 16ms/step - loss: 1.3630 - accuracy: 0.7220 - val_loss: 1.2528 - val_accuracy: 0.7270\n",
      "Epoch 3/9\n",
      "16/16 [==============================] - 0s 14ms/step - loss: 1.0084 - accuracy: 0.7895 - val_loss: 1.1057 - val_accuracy: 0.7570\n",
      "Epoch 4/9\n",
      "16/16 [==============================] - 0s 13ms/step - loss: 0.7904 - accuracy: 0.8339 - val_loss: 0.9966 - val_accuracy: 0.7930\n",
      "Epoch 5/9\n",
      "16/16 [==============================] - 0s 14ms/step - loss: 0.6260 - accuracy: 0.8710 - val_loss: 0.9530 - val_accuracy: 0.8070\n",
      "Epoch 6/9\n",
      "16/16 [==============================] - 0s 14ms/step - loss: 0.4979 - accuracy: 0.8973 - val_loss: 0.9361 - val_accuracy: 0.8090\n",
      "Epoch 7/9\n",
      "16/16 [==============================] - 0s 14ms/step - loss: 0.3993 - accuracy: 0.9188 - val_loss: 0.9139 - val_accuracy: 0.8080\n",
      "Epoch 8/9\n",
      "16/16 [==============================] - 0s 14ms/step - loss: 0.3225 - accuracy: 0.9307 - val_loss: 0.9106 - val_accuracy: 0.8160\n",
      "Epoch 9/9\n",
      "16/16 [==============================] - 0s 14ms/step - loss: 0.2702 - accuracy: 0.9411 - val_loss: 0.9077 - val_accuracy: 0.8310\n",
      "71/71 [==============================] - 1s 9ms/step - loss: 0.9807 - accuracy: 0.7934\n"
     ]
    }
   ],
   "source": [
    "model = models.Sequential()\n",
    "model.add(layers.Dense(64, activation = 'relu', input_shape=(10000,)))\n",
    "model.add(layers.Dense(64, activation = 'relu'))\n",
    "model.add(layers.Dense(46, activation = 'softmax'))\n",
    "\n",
    "model.compile(optimizer='rmsprop', loss='categorical_crossentropy', metrics=['accuracy'])\n",
    "# model.summary()\n",
    "\n",
    "model.fit( partial_x_train, partial_y_train, epochs=9, batch_size=512, validation_data=(x_val,y_val))\n",
    "results = model.evaluate(x_test, one_hot_test_labels)"
   ]
  },
  {
   "cell_type": "code",
   "execution_count": 86,
   "id": "99de2ef7",
   "metadata": {
    "ExecuteTime": {
     "end_time": "2022-05-11T12:18:36.417964Z",
     "start_time": "2022-05-11T12:18:36.413501Z"
    }
   },
   "outputs": [
    {
     "data": {
      "text/plain": [
       "[0.9807048439979553, 0.7934105396270752]"
      ]
     },
     "execution_count": 86,
     "metadata": {},
     "output_type": "execute_result"
    }
   ],
   "source": [
    "results # loss , accuracy 약 79.3% 정확도."
   ]
  },
  {
   "cell_type": "markdown",
   "id": "8e392f0b",
   "metadata": {},
   "source": [
    "## Regression 보스턴 집값예측"
   ]
  },
  {
   "cell_type": "code",
   "execution_count": 2,
   "id": "de75211c",
   "metadata": {
    "ExecuteTime": {
     "end_time": "2022-05-22T06:23:38.427354Z",
     "start_time": "2022-05-22T06:23:38.412469Z"
    }
   },
   "outputs": [
    {
     "name": "stdout",
     "output_type": "stream",
     "text": [
      "x_train : (404, 13)\n",
      "x_test : (102, 13)\n"
     ]
    }
   ],
   "source": [
    "from keras.datasets import boston_housing\n",
    "\n",
    "(x_train, train_targets), (x_test, test_targets) = boston_housing.load_data()\n",
    "print(f\"x_train : {x_train.shape}\" )\n",
    "print(f\"x_test : {x_test.shape}\" )"
   ]
  },
  {
   "cell_type": "code",
   "execution_count": 3,
   "id": "949b68dd",
   "metadata": {
    "ExecuteTime": {
     "end_time": "2022-05-22T06:23:40.234680Z",
     "start_time": "2022-05-22T06:23:40.228758Z"
    }
   },
   "outputs": [
    {
     "name": "stdout",
     "output_type": "stream",
     "text": [
      "5.0\n",
      "50.0\n"
     ]
    }
   ],
   "source": [
    "print( min( train_targets[:] ))\n",
    "print( max( train_targets[:] ))"
   ]
  },
  {
   "cell_type": "code",
   "execution_count": null,
   "id": "94038edb",
   "metadata": {},
   "outputs": [],
   "source": []
  },
  {
   "cell_type": "code",
   "execution_count": null,
   "id": "73de60bf",
   "metadata": {},
   "outputs": [],
   "source": []
  },
  {
   "cell_type": "code",
   "execution_count": null,
   "id": "e07d631a",
   "metadata": {},
   "outputs": [],
   "source": []
  },
  {
   "cell_type": "code",
   "execution_count": null,
   "id": "c48c7c22",
   "metadata": {},
   "outputs": [],
   "source": []
  },
  {
   "cell_type": "code",
   "execution_count": null,
   "id": "5990c8e3",
   "metadata": {},
   "outputs": [],
   "source": []
  },
  {
   "cell_type": "code",
   "execution_count": null,
   "id": "54229ad7",
   "metadata": {},
   "outputs": [],
   "source": []
  },
  {
   "cell_type": "code",
   "execution_count": null,
   "id": "1a1875f8",
   "metadata": {},
   "outputs": [],
   "source": []
  },
  {
   "cell_type": "code",
   "execution_count": null,
   "id": "73bca686",
   "metadata": {},
   "outputs": [],
   "source": []
  },
  {
   "cell_type": "code",
   "execution_count": null,
   "id": "60c03cc2",
   "metadata": {},
   "outputs": [],
   "source": []
  },
  {
   "cell_type": "code",
   "execution_count": null,
   "id": "d6ed5008",
   "metadata": {},
   "outputs": [],
   "source": []
  },
  {
   "cell_type": "code",
   "execution_count": null,
   "id": "38ac7dca",
   "metadata": {},
   "outputs": [],
   "source": []
  },
  {
   "cell_type": "code",
   "execution_count": null,
   "id": "0de26735",
   "metadata": {},
   "outputs": [],
   "source": [
    "## time series anomaly detection using an AutoEncoder"
   ]
  },
  {
   "cell_type": "code",
   "execution_count": null,
   "id": "a5245bec",
   "metadata": {},
   "outputs": [],
   "source": []
  }
 ],
 "metadata": {
  "hide_input": false,
  "kernelspec": {
   "display_name": "Python 3 (ipykernel)",
   "language": "python",
   "name": "python3"
  },
  "language_info": {
   "codemirror_mode": {
    "name": "ipython",
    "version": 3
   },
   "file_extension": ".py",
   "mimetype": "text/x-python",
   "name": "python",
   "nbconvert_exporter": "python",
   "pygments_lexer": "ipython3",
   "version": "3.8.13"
  },
  "toc": {
   "base_numbering": "0",
   "nav_menu": {},
   "number_sections": true,
   "sideBar": true,
   "skip_h1_title": false,
   "title_cell": "Table of Contents",
   "title_sidebar": "Contents",
   "toc_cell": false,
   "toc_position": {
    "height": "calc(100% - 180px)",
    "left": "10px",
    "top": "150px",
    "width": "251px"
   },
   "toc_section_display": true,
   "toc_window_display": true
  },
  "varInspector": {
   "cols": {
    "lenName": 16,
    "lenType": 16,
    "lenVar": 40
   },
   "kernels_config": {
    "python": {
     "delete_cmd_postfix": "",
     "delete_cmd_prefix": "del ",
     "library": "var_list.py",
     "varRefreshCmd": "print(var_dic_list())"
    },
    "r": {
     "delete_cmd_postfix": ") ",
     "delete_cmd_prefix": "rm(",
     "library": "var_list.r",
     "varRefreshCmd": "cat(var_dic_list()) "
    }
   },
   "types_to_exclude": [
    "module",
    "function",
    "builtin_function_or_method",
    "instance",
    "_Feature"
   ],
   "window_display": false
  }
 },
 "nbformat": 4,
 "nbformat_minor": 5
}
