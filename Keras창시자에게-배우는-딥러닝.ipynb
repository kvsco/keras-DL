{
 "cells": [
  {
   "cell_type": "code",
   "execution_count": 2,
   "id": "81cbe390",
   "metadata": {
    "ExecuteTime": {
     "end_time": "2022-04-16T06:24:41.342311Z",
     "start_time": "2022-04-16T06:24:39.119298Z"
    }
   },
   "outputs": [
    {
     "data": {
      "text/plain": [
       "('2.8.0', '2.8.0')"
      ]
     },
     "execution_count": 2,
     "metadata": {},
     "output_type": "execute_result"
    }
   ],
   "source": [
    "import tensorflow as tf\n",
    "from tensorflow import keras\n",
    "tf.__version__, keras.__version__"
   ]
  },
  {
   "cell_type": "markdown",
   "id": "6dc1e962",
   "metadata": {},
   "source": [
    "## mnist 간단한 지도학습 예제"
   ]
  },
  {
   "cell_type": "code",
   "execution_count": 39,
   "id": "a51de92e",
   "metadata": {
    "ExecuteTime": {
     "end_time": "2022-04-16T06:42:30.169927Z",
     "start_time": "2022-04-16T06:42:29.952415Z"
    }
   },
   "outputs": [],
   "source": [
    "from keras.datasets import mnist\n",
    "\n",
    "a = mnist.load_data()"
   ]
  },
  {
   "cell_type": "code",
   "execution_count": 40,
   "id": "091e6bad",
   "metadata": {
    "ExecuteTime": {
     "end_time": "2022-04-16T06:42:31.951438Z",
     "start_time": "2022-04-16T06:42:31.945437Z"
    }
   },
   "outputs": [
    {
     "data": {
      "text/plain": [
       "tuple"
      ]
     },
     "execution_count": 40,
     "metadata": {},
     "output_type": "execute_result"
    }
   ],
   "source": [
    "type(a)"
   ]
  },
  {
   "cell_type": "code",
   "execution_count": 9,
   "id": "a156ee1e",
   "metadata": {
    "ExecuteTime": {
     "end_time": "2022-04-07T14:21:41.727985Z",
     "start_time": "2022-04-07T14:21:41.723601Z"
    }
   },
   "outputs": [
    {
     "data": {
      "text/plain": [
       "<function tuple.count(value, /)>"
      ]
     },
     "execution_count": 9,
     "metadata": {},
     "output_type": "execute_result"
    }
   ],
   "source": [
    "a.count"
   ]
  },
  {
   "cell_type": "code",
   "execution_count": 25,
   "id": "1ab73604",
   "metadata": {
    "ExecuteTime": {
     "end_time": "2022-04-07T14:24:56.014154Z",
     "start_time": "2022-04-07T14:24:56.010279Z"
    }
   },
   "outputs": [
    {
     "data": {
      "text/plain": [
       "2"
      ]
     },
     "execution_count": 25,
     "metadata": {},
     "output_type": "execute_result"
    }
   ],
   "source": [
    "len(a)"
   ]
  },
  {
   "cell_type": "code",
   "execution_count": 32,
   "id": "e0ba6d37",
   "metadata": {
    "ExecuteTime": {
     "end_time": "2022-04-07T14:25:43.433939Z",
     "start_time": "2022-04-07T14:25:43.429578Z"
    }
   },
   "outputs": [
    {
     "data": {
      "text/plain": [
       "60000"
      ]
     },
     "execution_count": 32,
     "metadata": {},
     "output_type": "execute_result"
    }
   ],
   "source": [
    "len(a[0][0])"
   ]
  },
  {
   "cell_type": "code",
   "execution_count": 33,
   "id": "eea08be4",
   "metadata": {
    "ExecuteTime": {
     "end_time": "2022-04-07T14:26:19.328494Z",
     "start_time": "2022-04-07T14:26:19.326041Z"
    }
   },
   "outputs": [],
   "source": [
    "tup_a, tup_b = a"
   ]
  },
  {
   "cell_type": "code",
   "execution_count": 44,
   "id": "b852c17d",
   "metadata": {
    "ExecuteTime": {
     "end_time": "2022-04-07T14:27:37.933320Z",
     "start_time": "2022-04-07T14:27:37.929653Z"
    }
   },
   "outputs": [
    {
     "data": {
      "text/plain": [
       "10000"
      ]
     },
     "execution_count": 44,
     "metadata": {},
     "output_type": "execute_result"
    }
   ],
   "source": [
    "len(tup_b[0])"
   ]
  },
  {
   "cell_type": "code",
   "execution_count": 41,
   "id": "12dbcb77",
   "metadata": {
    "ExecuteTime": {
     "end_time": "2022-04-16T06:42:42.027073Z",
     "start_time": "2022-04-16T06:42:42.024439Z"
    }
   },
   "outputs": [],
   "source": [
    "(train_images, train_labels), (test_images, test_labels) = a"
   ]
  },
  {
   "cell_type": "code",
   "execution_count": 42,
   "id": "e36d2bb4",
   "metadata": {
    "ExecuteTime": {
     "end_time": "2022-04-16T06:42:42.620230Z",
     "start_time": "2022-04-16T06:42:42.614308Z"
    }
   },
   "outputs": [
    {
     "data": {
      "text/plain": [
       "60000"
      ]
     },
     "execution_count": 42,
     "metadata": {},
     "output_type": "execute_result"
    }
   ],
   "source": [
    "len(train_images)"
   ]
  },
  {
   "cell_type": "code",
   "execution_count": 43,
   "id": "c134b746",
   "metadata": {
    "ExecuteTime": {
     "end_time": "2022-04-16T06:42:45.251224Z",
     "start_time": "2022-04-16T06:42:45.245704Z"
    }
   },
   "outputs": [
    {
     "data": {
      "text/plain": [
       "(60000, 28, 28)"
      ]
     },
     "execution_count": 43,
     "metadata": {},
     "output_type": "execute_result"
    }
   ],
   "source": [
    "train_images.shape"
   ]
  },
  {
   "cell_type": "code",
   "execution_count": 8,
   "id": "bb0081d9",
   "metadata": {
    "ExecuteTime": {
     "end_time": "2022-04-16T06:25:00.904021Z",
     "start_time": "2022-04-16T06:25:00.893645Z"
    }
   },
   "outputs": [
    {
     "data": {
      "text/plain": [
       "array([[  0,   0,   0,   0,   0,   0,   0,   0,   0,   0,   0,   0,   0,\n",
       "          0,   0,   0,   0,   0,   0,   0,   0,   0,   0,   0,   0,   0,\n",
       "          0,   0],\n",
       "       [  0,   0,   0,   0,   0,   0,   0,   0,   0,   0,   0,   0,   0,\n",
       "          0,   0,   0,   0,   0,   0,   0,   0,   0,   0,   0,   0,   0,\n",
       "          0,   0],\n",
       "       [  0,   0,   0,   0,   0,   0,   0,   0,   0,   0,   0,   0,   0,\n",
       "          0,   0,   0,   0,   0,   0,   0,   0,   0,   0,   0,   0,   0,\n",
       "          0,   0],\n",
       "       [  0,   0,   0,   0,   0,   0,   0,   0,   0,   0,   0,   0,   0,\n",
       "          0,   0,   0,   0,   0,   0,   0,   0,   0,   0,   0,   0,   0,\n",
       "          0,   0],\n",
       "       [  0,   0,   0,   0,   0,   0,   0,   0,   0,   0,   0,   0,   0,\n",
       "          0,   0,   0,   0,   0,   0,   0,   0,   0,   0,   0,   0,   0,\n",
       "          0,   0],\n",
       "       [  0,   0,   0,   0,   0,   0,   0,   0,   0,   0,   0,   0,   3,\n",
       "         18,  18,  18, 126, 136, 175,  26, 166, 255, 247, 127,   0,   0,\n",
       "          0,   0],\n",
       "       [  0,   0,   0,   0,   0,   0,   0,   0,  30,  36,  94, 154, 170,\n",
       "        253, 253, 253, 253, 253, 225, 172, 253, 242, 195,  64,   0,   0,\n",
       "          0,   0],\n",
       "       [  0,   0,   0,   0,   0,   0,   0,  49, 238, 253, 253, 253, 253,\n",
       "        253, 253, 253, 253, 251,  93,  82,  82,  56,  39,   0,   0,   0,\n",
       "          0,   0],\n",
       "       [  0,   0,   0,   0,   0,   0,   0,  18, 219, 253, 253, 253, 253,\n",
       "        253, 198, 182, 247, 241,   0,   0,   0,   0,   0,   0,   0,   0,\n",
       "          0,   0],\n",
       "       [  0,   0,   0,   0,   0,   0,   0,   0,  80, 156, 107, 253, 253,\n",
       "        205,  11,   0,  43, 154,   0,   0,   0,   0,   0,   0,   0,   0,\n",
       "          0,   0],\n",
       "       [  0,   0,   0,   0,   0,   0,   0,   0,   0,  14,   1, 154, 253,\n",
       "         90,   0,   0,   0,   0,   0,   0,   0,   0,   0,   0,   0,   0,\n",
       "          0,   0],\n",
       "       [  0,   0,   0,   0,   0,   0,   0,   0,   0,   0,   0, 139, 253,\n",
       "        190,   2,   0,   0,   0,   0,   0,   0,   0,   0,   0,   0,   0,\n",
       "          0,   0],\n",
       "       [  0,   0,   0,   0,   0,   0,   0,   0,   0,   0,   0,  11, 190,\n",
       "        253,  70,   0,   0,   0,   0,   0,   0,   0,   0,   0,   0,   0,\n",
       "          0,   0],\n",
       "       [  0,   0,   0,   0,   0,   0,   0,   0,   0,   0,   0,   0,  35,\n",
       "        241, 225, 160, 108,   1,   0,   0,   0,   0,   0,   0,   0,   0,\n",
       "          0,   0],\n",
       "       [  0,   0,   0,   0,   0,   0,   0,   0,   0,   0,   0,   0,   0,\n",
       "         81, 240, 253, 253, 119,  25,   0,   0,   0,   0,   0,   0,   0,\n",
       "          0,   0],\n",
       "       [  0,   0,   0,   0,   0,   0,   0,   0,   0,   0,   0,   0,   0,\n",
       "          0,  45, 186, 253, 253, 150,  27,   0,   0,   0,   0,   0,   0,\n",
       "          0,   0],\n",
       "       [  0,   0,   0,   0,   0,   0,   0,   0,   0,   0,   0,   0,   0,\n",
       "          0,   0,  16,  93, 252, 253, 187,   0,   0,   0,   0,   0,   0,\n",
       "          0,   0],\n",
       "       [  0,   0,   0,   0,   0,   0,   0,   0,   0,   0,   0,   0,   0,\n",
       "          0,   0,   0,   0, 249, 253, 249,  64,   0,   0,   0,   0,   0,\n",
       "          0,   0],\n",
       "       [  0,   0,   0,   0,   0,   0,   0,   0,   0,   0,   0,   0,   0,\n",
       "          0,  46, 130, 183, 253, 253, 207,   2,   0,   0,   0,   0,   0,\n",
       "          0,   0],\n",
       "       [  0,   0,   0,   0,   0,   0,   0,   0,   0,   0,   0,   0,  39,\n",
       "        148, 229, 253, 253, 253, 250, 182,   0,   0,   0,   0,   0,   0,\n",
       "          0,   0],\n",
       "       [  0,   0,   0,   0,   0,   0,   0,   0,   0,   0,  24, 114, 221,\n",
       "        253, 253, 253, 253, 201,  78,   0,   0,   0,   0,   0,   0,   0,\n",
       "          0,   0],\n",
       "       [  0,   0,   0,   0,   0,   0,   0,   0,  23,  66, 213, 253, 253,\n",
       "        253, 253, 198,  81,   2,   0,   0,   0,   0,   0,   0,   0,   0,\n",
       "          0,   0],\n",
       "       [  0,   0,   0,   0,   0,   0,  18, 171, 219, 253, 253, 253, 253,\n",
       "        195,  80,   9,   0,   0,   0,   0,   0,   0,   0,   0,   0,   0,\n",
       "          0,   0],\n",
       "       [  0,   0,   0,   0,  55, 172, 226, 253, 253, 253, 253, 244, 133,\n",
       "         11,   0,   0,   0,   0,   0,   0,   0,   0,   0,   0,   0,   0,\n",
       "          0,   0],\n",
       "       [  0,   0,   0,   0, 136, 253, 253, 253, 212, 135, 132,  16,   0,\n",
       "          0,   0,   0,   0,   0,   0,   0,   0,   0,   0,   0,   0,   0,\n",
       "          0,   0],\n",
       "       [  0,   0,   0,   0,   0,   0,   0,   0,   0,   0,   0,   0,   0,\n",
       "          0,   0,   0,   0,   0,   0,   0,   0,   0,   0,   0,   0,   0,\n",
       "          0,   0],\n",
       "       [  0,   0,   0,   0,   0,   0,   0,   0,   0,   0,   0,   0,   0,\n",
       "          0,   0,   0,   0,   0,   0,   0,   0,   0,   0,   0,   0,   0,\n",
       "          0,   0],\n",
       "       [  0,   0,   0,   0,   0,   0,   0,   0,   0,   0,   0,   0,   0,\n",
       "          0,   0,   0,   0,   0,   0,   0,   0,   0,   0,   0,   0,   0,\n",
       "          0,   0]], dtype=uint8)"
      ]
     },
     "execution_count": 8,
     "metadata": {},
     "output_type": "execute_result"
    }
   ],
   "source": [
    "train_images[0]"
   ]
  },
  {
   "cell_type": "code",
   "execution_count": 9,
   "id": "f0920897",
   "metadata": {
    "ExecuteTime": {
     "end_time": "2022-04-16T06:25:04.298521Z",
     "start_time": "2022-04-16T06:25:04.293714Z"
    }
   },
   "outputs": [
    {
     "data": {
      "text/plain": [
       "60000"
      ]
     },
     "execution_count": 9,
     "metadata": {},
     "output_type": "execute_result"
    }
   ],
   "source": [
    "len(train_images)"
   ]
  },
  {
   "cell_type": "code",
   "execution_count": 45,
   "id": "e6656e9b",
   "metadata": {
    "ExecuteTime": {
     "end_time": "2022-04-16T06:43:04.704352Z",
     "start_time": "2022-04-16T06:43:04.696588Z"
    }
   },
   "outputs": [],
   "source": [
    "from keras import models\n",
    "from keras import layers\n",
    "\n",
    "network = models.Sequential()"
   ]
  },
  {
   "cell_type": "code",
   "execution_count": 46,
   "id": "9e7d1d24",
   "metadata": {
    "ExecuteTime": {
     "end_time": "2022-04-16T06:43:07.736869Z",
     "start_time": "2022-04-16T06:43:07.729294Z"
    }
   },
   "outputs": [],
   "source": [
    "network.add(layers.Dense(50, activation=\"relu\", ))\n",
    "network.add(layers.Dense(10, activation=\"softmax\" ))"
   ]
  },
  {
   "cell_type": "code",
   "execution_count": 47,
   "id": "cf88187a",
   "metadata": {
    "ExecuteTime": {
     "end_time": "2022-04-16T06:43:37.705709Z",
     "start_time": "2022-04-16T06:43:37.692540Z"
    }
   },
   "outputs": [],
   "source": [
    "network.compile(optimizer=\"rmsprop\",\n",
    "               loss=\"categorical_crossentropy\",\n",
    "               metrics=['accuracy'])"
   ]
  },
  {
   "cell_type": "code",
   "execution_count": 61,
   "id": "85ab48a4",
   "metadata": {
    "ExecuteTime": {
     "end_time": "2022-04-16T06:55:22.896019Z",
     "start_time": "2022-04-16T06:55:22.892451Z"
    }
   },
   "outputs": [
    {
     "data": {
      "text/plain": [
       "(60000, 784)"
      ]
     },
     "execution_count": 61,
     "metadata": {},
     "output_type": "execute_result"
    }
   ],
   "source": [
    "train_images.shape"
   ]
  },
  {
   "cell_type": "code",
   "execution_count": 62,
   "id": "cb643e2a",
   "metadata": {
    "ExecuteTime": {
     "end_time": "2022-04-16T06:55:26.905970Z",
     "start_time": "2022-04-16T06:55:26.902094Z"
    }
   },
   "outputs": [
    {
     "data": {
      "text/plain": [
       "dtype('uint8')"
      ]
     },
     "execution_count": 62,
     "metadata": {},
     "output_type": "execute_result"
    }
   ],
   "source": [
    "train_images.dtype"
   ]
  },
  {
   "cell_type": "code",
   "execution_count": 63,
   "id": "94d26cdd",
   "metadata": {
    "ExecuteTime": {
     "end_time": "2022-04-16T06:55:28.837141Z",
     "start_time": "2022-04-16T06:55:28.833147Z"
    }
   },
   "outputs": [
    {
     "data": {
      "text/plain": [
       "numpy.ndarray"
      ]
     },
     "execution_count": 63,
     "metadata": {},
     "output_type": "execute_result"
    }
   ],
   "source": [
    "type(train_images)"
   ]
  },
  {
   "cell_type": "code",
   "execution_count": 64,
   "id": "d49d1bde",
   "metadata": {
    "ExecuteTime": {
     "end_time": "2022-04-16T06:55:57.758819Z",
     "start_time": "2022-04-16T06:55:57.667650Z"
    }
   },
   "outputs": [
    {
     "data": {
      "text/plain": [
       "array([[0., 0., 0., ..., 0., 0., 0.],\n",
       "       [0., 0., 0., ..., 0., 0., 0.],\n",
       "       [0., 0., 0., ..., 0., 0., 0.],\n",
       "       ...,\n",
       "       [0., 0., 0., ..., 0., 0., 0.],\n",
       "       [0., 0., 0., ..., 0., 0., 0.],\n",
       "       [0., 0., 0., ..., 0., 0., 0.]], dtype=float32)"
      ]
     },
     "execution_count": 64,
     "metadata": {},
     "output_type": "execute_result"
    }
   ],
   "source": [
    "train_images = train_images.reshape((60000, 28 * 28))\n",
    "train_images.astype('float32') / 255"
   ]
  },
  {
   "cell_type": "code",
   "execution_count": 65,
   "id": "4fb53b8f",
   "metadata": {
    "ExecuteTime": {
     "end_time": "2022-04-16T06:56:02.086145Z",
     "start_time": "2022-04-16T06:56:02.080949Z"
    }
   },
   "outputs": [
    {
     "data": {
      "text/plain": [
       "(60000, 784)"
      ]
     },
     "execution_count": 65,
     "metadata": {},
     "output_type": "execute_result"
    }
   ],
   "source": [
    "train_images.shape"
   ]
  },
  {
   "cell_type": "code",
   "execution_count": 67,
   "id": "b6bbb69e",
   "metadata": {
    "ExecuteTime": {
     "end_time": "2022-04-16T06:56:39.993334Z",
     "start_time": "2022-04-16T06:56:39.977823Z"
    }
   },
   "outputs": [
    {
     "data": {
      "text/plain": [
       "array([[0., 0., 0., ..., 0., 0., 0.],\n",
       "       [0., 0., 0., ..., 0., 0., 0.],\n",
       "       [0., 0., 0., ..., 0., 0., 0.],\n",
       "       ...,\n",
       "       [0., 0., 0., ..., 0., 0., 0.],\n",
       "       [0., 0., 0., ..., 0., 0., 0.],\n",
       "       [0., 0., 0., ..., 0., 0., 0.]], dtype=float32)"
      ]
     },
     "execution_count": 67,
     "metadata": {},
     "output_type": "execute_result"
    }
   ],
   "source": [
    "test_images = test_images.reshape((10000, 28 * 28))\n",
    "test_images.astype('float32') / 255"
   ]
  },
  {
   "cell_type": "markdown",
   "id": "177b6268",
   "metadata": {},
   "source": [
    "### label 값 -> 범주형인코딩"
   ]
  },
  {
   "cell_type": "code",
   "execution_count": 52,
   "id": "d7630805",
   "metadata": {
    "ExecuteTime": {
     "end_time": "2022-04-16T06:43:54.586537Z",
     "start_time": "2022-04-16T06:43:54.577153Z"
    },
    "scrolled": true
   },
   "outputs": [
    {
     "data": {
      "text/plain": [
       "array([[0., 0., 0., ..., 0., 0., 0.],\n",
       "       [1., 0., 0., ..., 0., 0., 0.],\n",
       "       [0., 0., 0., ..., 0., 0., 0.],\n",
       "       ...,\n",
       "       [0., 0., 0., ..., 0., 0., 0.],\n",
       "       [0., 0., 0., ..., 0., 0., 0.],\n",
       "       [0., 0., 0., ..., 0., 1., 0.]], dtype=float32)"
      ]
     },
     "execution_count": 52,
     "metadata": {},
     "output_type": "execute_result"
    }
   ],
   "source": [
    "from tensorflow.keras.utils import to_categorical\n",
    "\n",
    "train_labels = to_categorical(train_labels)\n",
    "test_labels = to_categorical(test_labels)\n",
    "\n",
    "train_labels"
   ]
  },
  {
   "cell_type": "markdown",
   "id": "4c523f3d",
   "metadata": {},
   "source": [
    "### fit, 평가"
   ]
  },
  {
   "cell_type": "code",
   "execution_count": 68,
   "id": "c806bc36",
   "metadata": {
    "ExecuteTime": {
     "end_time": "2022-04-16T06:57:11.397865Z",
     "start_time": "2022-04-16T06:56:55.159387Z"
    }
   },
   "outputs": [
    {
     "name": "stdout",
     "output_type": "stream",
     "text": [
      "Epoch 1/5\n",
      "469/469 [==============================] - 4s 8ms/step - loss: 0.2876 - accuracy: 0.9383\n",
      "Epoch 2/5\n",
      "469/469 [==============================] - 3s 7ms/step - loss: 0.2569 - accuracy: 0.9412\n",
      "Epoch 3/5\n",
      "469/469 [==============================] - 3s 7ms/step - loss: 0.2374 - accuracy: 0.9454\n",
      "Epoch 4/5\n",
      "469/469 [==============================] - 3s 7ms/step - loss: 0.2259 - accuracy: 0.9483\n",
      "Epoch 5/5\n",
      "469/469 [==============================] - 3s 7ms/step - loss: 0.2126 - accuracy: 0.9513\n"
     ]
    },
    {
     "data": {
      "text/plain": [
       "<keras.callbacks.History at 0x28d9b7cd0>"
      ]
     },
     "execution_count": 68,
     "metadata": {},
     "output_type": "execute_result"
    }
   ],
   "source": [
    "network.fit(train_images, train_labels, batch_size=128, epochs=5 )"
   ]
  },
  {
   "cell_type": "code",
   "execution_count": 69,
   "id": "6dcc4345",
   "metadata": {
    "ExecuteTime": {
     "end_time": "2022-04-16T07:00:34.545606Z",
     "start_time": "2022-04-16T07:00:32.694497Z"
    }
   },
   "outputs": [
    {
     "name": "stdout",
     "output_type": "stream",
     "text": [
      " 29/313 [=>............................] - ETA: 1s - loss: 2.4843 - accuracy: 0.0905 "
     ]
    },
    {
     "name": "stderr",
     "output_type": "stream",
     "text": [
      "2022-04-16 16:00:32.791107: I tensorflow/core/grappler/optimizers/custom_graph_optimizer_registry.cc:113] Plugin optimizer for device_type GPU is enabled.\n"
     ]
    },
    {
     "name": "stdout",
     "output_type": "stream",
     "text": [
      "313/313 [==============================] - 2s 6ms/step - loss: 2.4666 - accuracy: 0.0974\n"
     ]
    }
   ],
   "source": [
    "loss, acc = network.evaluate(test_images, test_labels)"
   ]
  },
  {
   "cell_type": "code",
   "execution_count": 72,
   "id": "9034606f",
   "metadata": {
    "ExecuteTime": {
     "end_time": "2022-04-16T07:01:31.517300Z",
     "start_time": "2022-04-16T07:01:30.880441Z"
    }
   },
   "outputs": [
    {
     "data": {
      "text/plain": [
       "array([[0.15957327, 0.05219023, 0.07214696, ..., 0.05821044, 0.27737448,\n",
       "        0.11582608],\n",
       "       [0.15557684, 0.0527869 , 0.07184931, ..., 0.0586249 , 0.28337017,\n",
       "        0.11516364],\n",
       "       [0.16048786, 0.05187853, 0.07169598, ..., 0.05829059, 0.27960083,\n",
       "        0.11453345],\n",
       "       ...,\n",
       "       [0.16048984, 0.05181932, 0.07031538, ..., 0.05888481, 0.279299  ,\n",
       "        0.11584821],\n",
       "       [0.16028018, 0.05182697, 0.07138306, ..., 0.05861071, 0.2798731 ,\n",
       "        0.11418043],\n",
       "       [0.16025645, 0.05186785, 0.07139947, ..., 0.05839759, 0.28014177,\n",
       "        0.1144239 ]], dtype=float32)"
      ]
     },
     "execution_count": 72,
     "metadata": {},
     "output_type": "execute_result"
    }
   ],
   "source": [
    "y = network.predict(test_images)\n",
    "y"
   ]
  },
  {
   "cell_type": "code",
   "execution_count": 73,
   "id": "b3bb5c8c",
   "metadata": {
    "ExecuteTime": {
     "end_time": "2022-04-16T07:01:48.486123Z",
     "start_time": "2022-04-16T07:01:48.480637Z"
    }
   },
   "outputs": [
    {
     "data": {
      "text/plain": [
       "array([[0., 0., 0., ..., 1., 0., 0.],\n",
       "       [0., 0., 1., ..., 0., 0., 0.],\n",
       "       [0., 1., 0., ..., 0., 0., 0.],\n",
       "       ...,\n",
       "       [0., 0., 0., ..., 0., 0., 0.],\n",
       "       [0., 0., 0., ..., 0., 0., 0.],\n",
       "       [0., 0., 0., ..., 0., 0., 0.]], dtype=float32)"
      ]
     },
     "execution_count": 73,
     "metadata": {},
     "output_type": "execute_result"
    }
   ],
   "source": [
    "test_labels"
   ]
  },
  {
   "cell_type": "markdown",
   "id": "d9c4c6f8",
   "metadata": {},
   "source": [
    "### 데이터 표현 - tensor"
   ]
  },
  {
   "cell_type": "code",
   "execution_count": 91,
   "id": "d329cd97",
   "metadata": {
    "ExecuteTime": {
     "end_time": "2022-04-16T08:03:57.809587Z",
     "start_time": "2022-04-16T08:03:57.804996Z"
    }
   },
   "outputs": [
    {
     "data": {
      "text/plain": [
       "array(10)"
      ]
     },
     "execution_count": 91,
     "metadata": {},
     "output_type": "execute_result"
    }
   ],
   "source": [
    "#0D 스칼라 (숫자..)\n",
    "import numpy as np\n",
    "\n",
    "x = np.array(10)\n",
    "x\n",
    "# x.dtype \n",
    "# x.shape\n",
    "# x.ndim"
   ]
  },
  {
   "cell_type": "code",
   "execution_count": 94,
   "id": "f7c65500",
   "metadata": {
    "ExecuteTime": {
     "end_time": "2022-04-16T08:13:10.283633Z",
     "start_time": "2022-04-16T08:13:10.278619Z"
    }
   },
   "outputs": [
    {
     "data": {
      "text/plain": [
       "dtype('int64')"
      ]
     },
     "execution_count": 94,
     "metadata": {},
     "output_type": "execute_result"
    }
   ],
   "source": [
    "#1D 벡터 (배열, 리스트)\n",
    "x = np.array( [ 1,2,3,4,5] )\n",
    "x\n",
    "# x.dtype \n",
    "# x.shape\n",
    "# x.ndim"
   ]
  },
  {
   "cell_type": "code",
   "execution_count": 96,
   "id": "14bda504",
   "metadata": {
    "ExecuteTime": {
     "end_time": "2022-04-16T08:13:16.951963Z",
     "start_time": "2022-04-16T08:13:16.946424Z"
    }
   },
   "outputs": [
    {
     "data": {
      "text/plain": [
       "2"
      ]
     },
     "execution_count": 96,
     "metadata": {},
     "output_type": "execute_result"
    }
   ],
   "source": [
    "#2D 행렬 \n",
    "x = np.array( [[5,6,7,8],\n",
    "              [10,20,30,40],\n",
    "              [-1,-2,-3,-4]] )\n",
    "x\n",
    "# x.dtype \n",
    "# x.shape\n",
    "# x.ndim"
   ]
  },
  {
   "cell_type": "code",
   "execution_count": 104,
   "id": "290b3723",
   "metadata": {
    "ExecuteTime": {
     "end_time": "2022-04-16T08:27:59.776388Z",
     "start_time": "2022-04-16T08:27:59.764798Z"
    },
    "scrolled": true
   },
   "outputs": [
    {
     "data": {
      "text/plain": [
       "(3, 4, 5)"
      ]
     },
     "execution_count": 104,
     "metadata": {},
     "output_type": "execute_result"
    }
   ],
   "source": [
    "#3D~ 고차원 텐서 \n",
    "x = np.array( [[[5,6,7,8,9], \n",
    "                [50,60,70,80,90], \n",
    "                [500,600,700,800,900],\n",
    "                [5000,6000,7000,8000,9000]],\n",
    "               \n",
    "               [[1,2,3,4,5], \n",
    "                [10,20,30,40,50],\n",
    "                [100,200,300,400,500],\n",
    "                [1000,2000,3000,4000,5000]],\n",
    "              \n",
    "               [[-1,-2,-3,-5,-6],\n",
    "                [-10,-20,-30,-40,-60],\n",
    "                [-100,-200,-300,-400,-600],\n",
    "                [-1000,-2000,-3000,-4000,-6000]] ])\n",
    "x\n",
    "x.shape\n",
    "# x.ndim"
   ]
  },
  {
   "cell_type": "markdown",
   "id": "fb282575",
   "metadata": {},
   "source": [
    "### 심화 mnist data set 자세히 살펴보기"
   ]
  },
  {
   "cell_type": "code",
   "execution_count": 111,
   "id": "55f90b4e",
   "metadata": {
    "ExecuteTime": {
     "end_time": "2022-04-16T09:22:19.438701Z",
     "start_time": "2022-04-16T09:22:19.434990Z"
    }
   },
   "outputs": [
    {
     "name": "stdout",
     "output_type": "stream",
     "text": [
      "3\n",
      "(60000, 28, 28)\n",
      "uint8\n"
     ]
    }
   ],
   "source": [
    "(train_images, train_labels), (test_images, test_labels) = a\n",
    "print(train_images.ndim)\n",
    "print(train_images.shape)\n",
    "print(train_images.dtype)"
   ]
  },
  {
   "cell_type": "code",
   "execution_count": 112,
   "id": "9e2802a6",
   "metadata": {
    "ExecuteTime": {
     "end_time": "2022-04-16T09:32:55.879919Z",
     "start_time": "2022-04-16T09:32:55.870938Z"
    },
    "scrolled": true
   },
   "outputs": [
    {
     "data": {
      "text/plain": [
       "array([[  0,   0,   0,   0,   0,   0,   0,   0,   0,   0,   0,   0,   0,\n",
       "          0,   0,   0,   0,   0,   0,   0,   0,   0,   0,   0,   0,   0,\n",
       "          0,   0],\n",
       "       [  0,   0,   0,   0,   0,   0,   0,   0,   0,   0,   0,   0,   0,\n",
       "          0,   0,   0,   0,   0,   0,   0,   0,   0,   0,   0,   0,   0,\n",
       "          0,   0],\n",
       "       [  0,   0,   0,   0,   0,   0,   0,   0,   0,   0,   0,   0,   0,\n",
       "          0,   0,   0,   0,   0,   0,   0,   0,   0,   0,   0,   0,   0,\n",
       "          0,   0],\n",
       "       [  0,   0,   0,   0,   0,   0,   0,   0,   0,   0,   0,   0,   0,\n",
       "          0,   0,   0,   0,   0,   0,   0,   0,   0,   0,   0,   0,   0,\n",
       "          0,   0],\n",
       "       [  0,   0,   0,   0,   0,   0,   0,   0,   0,   0,   0,   0,   0,\n",
       "          0,   0,   0,   0,   0,   0,   0,   0,   0,   0,   0,   0,   0,\n",
       "          0,   0],\n",
       "       [  0,   0,   0,   0,   0,   0,   0,   0,   0,   0,   0,   0,   0,\n",
       "          0,   0,   0,   0,   0,   0,   0,   0,   0,   0,   0,   0,   0,\n",
       "          0,   0],\n",
       "       [  0,   0,   0,   0,   0,   0,   0,   0,   0,   0,   0,   0,   0,\n",
       "          0,   0,   0,   0,   0,   0,   0,   0,   0,   0,   0,   0,   0,\n",
       "          0,   0],\n",
       "       [  0,   0,   0,   0,   0,   0,   0,   0,   0,   0,   0,   0,  55,\n",
       "        148, 210, 253, 253, 113,  87, 148,  55,   0,   0,   0,   0,   0,\n",
       "          0,   0],\n",
       "       [  0,   0,   0,   0,   0,   0,   0,   0,   0,   0,   0,  87, 232,\n",
       "        252, 253, 189, 210, 252, 252, 253, 168,   0,   0,   0,   0,   0,\n",
       "          0,   0],\n",
       "       [  0,   0,   0,   0,   0,   0,   0,   0,   0,   4,  57, 242, 252,\n",
       "        190,  65,   5,  12, 182, 252, 253, 116,   0,   0,   0,   0,   0,\n",
       "          0,   0],\n",
       "       [  0,   0,   0,   0,   0,   0,   0,   0,   0,  96, 252, 252, 183,\n",
       "         14,   0,   0,  92, 252, 252, 225,  21,   0,   0,   0,   0,   0,\n",
       "          0,   0],\n",
       "       [  0,   0,   0,   0,   0,   0,   0,   0, 132, 253, 252, 146,  14,\n",
       "          0,   0,   0, 215, 252, 252,  79,   0,   0,   0,   0,   0,   0,\n",
       "          0,   0],\n",
       "       [  0,   0,   0,   0,   0,   0,   0, 126, 253, 247, 176,   9,   0,\n",
       "          0,   8,  78, 245, 253, 129,   0,   0,   0,   0,   0,   0,   0,\n",
       "          0,   0],\n",
       "       [  0,   0,   0,   0,   0,   0,  16, 232, 252, 176,   0,   0,   0,\n",
       "         36, 201, 252, 252, 169,  11,   0,   0,   0,   0,   0,   0,   0,\n",
       "          0,   0],\n",
       "       [  0,   0,   0,   0,   0,   0,  22, 252, 252,  30,  22, 119, 197,\n",
       "        241, 253, 252, 251,  77,   0,   0,   0,   0,   0,   0,   0,   0,\n",
       "          0,   0],\n",
       "       [  0,   0,   0,   0,   0,   0,  16, 231, 252, 253, 252, 252, 252,\n",
       "        226, 227, 252, 231,   0,   0,   0,   0,   0,   0,   0,   0,   0,\n",
       "          0,   0],\n",
       "       [  0,   0,   0,   0,   0,   0,   0,  55, 235, 253, 217, 138,  42,\n",
       "         24, 192, 252, 143,   0,   0,   0,   0,   0,   0,   0,   0,   0,\n",
       "          0,   0],\n",
       "       [  0,   0,   0,   0,   0,   0,   0,   0,   0,   0,   0,   0,   0,\n",
       "         62, 255, 253, 109,   0,   0,   0,   0,   0,   0,   0,   0,   0,\n",
       "          0,   0],\n",
       "       [  0,   0,   0,   0,   0,   0,   0,   0,   0,   0,   0,   0,   0,\n",
       "         71, 253, 252,  21,   0,   0,   0,   0,   0,   0,   0,   0,   0,\n",
       "          0,   0],\n",
       "       [  0,   0,   0,   0,   0,   0,   0,   0,   0,   0,   0,   0,   0,\n",
       "          0, 253, 252,  21,   0,   0,   0,   0,   0,   0,   0,   0,   0,\n",
       "          0,   0],\n",
       "       [  0,   0,   0,   0,   0,   0,   0,   0,   0,   0,   0,   0,   0,\n",
       "         71, 253, 252,  21,   0,   0,   0,   0,   0,   0,   0,   0,   0,\n",
       "          0,   0],\n",
       "       [  0,   0,   0,   0,   0,   0,   0,   0,   0,   0,   0,   0,   0,\n",
       "        106, 253, 252,  21,   0,   0,   0,   0,   0,   0,   0,   0,   0,\n",
       "          0,   0],\n",
       "       [  0,   0,   0,   0,   0,   0,   0,   0,   0,   0,   0,   0,   0,\n",
       "         45, 255, 253,  21,   0,   0,   0,   0,   0,   0,   0,   0,   0,\n",
       "          0,   0],\n",
       "       [  0,   0,   0,   0,   0,   0,   0,   0,   0,   0,   0,   0,   0,\n",
       "          0, 218, 252,  56,   0,   0,   0,   0,   0,   0,   0,   0,   0,\n",
       "          0,   0],\n",
       "       [  0,   0,   0,   0,   0,   0,   0,   0,   0,   0,   0,   0,   0,\n",
       "          0,  96, 252, 189,  42,   0,   0,   0,   0,   0,   0,   0,   0,\n",
       "          0,   0],\n",
       "       [  0,   0,   0,   0,   0,   0,   0,   0,   0,   0,   0,   0,   0,\n",
       "          0,  14, 184, 252, 170,  11,   0,   0,   0,   0,   0,   0,   0,\n",
       "          0,   0],\n",
       "       [  0,   0,   0,   0,   0,   0,   0,   0,   0,   0,   0,   0,   0,\n",
       "          0,   0,  14, 147, 252,  42,   0,   0,   0,   0,   0,   0,   0,\n",
       "          0,   0],\n",
       "       [  0,   0,   0,   0,   0,   0,   0,   0,   0,   0,   0,   0,   0,\n",
       "          0,   0,   0,   0,   0,   0,   0,   0,   0,   0,   0,   0,   0,\n",
       "          0,   0]], dtype=uint8)"
      ]
     },
     "execution_count": 112,
     "metadata": {},
     "output_type": "execute_result"
    }
   ],
   "source": [
    "digit = train_images[4]\n",
    "digit"
   ]
  },
  {
   "cell_type": "code",
   "execution_count": 121,
   "id": "bffcfb0f",
   "metadata": {
    "ExecuteTime": {
     "end_time": "2022-04-17T06:33:17.898618Z",
     "start_time": "2022-04-17T06:33:17.802236Z"
    }
   },
   "outputs": [
    {
     "data": {
      "text/plain": [
       "<matplotlib.image.AxesImage at 0x2d7e5d940>"
      ]
     },
     "execution_count": 121,
     "metadata": {},
     "output_type": "execute_result"
    },
    {
     "data": {
      "image/png": "[encoded data removed]",
      "text/plain": [
       "<Figure size 432x288 with 1 Axes>"
      ]
     },
     "metadata": {
      "needs_background": "light"
     },
     "output_type": "display_data"
    }
   ],
   "source": [
    "import matplotlib.pyplot as plt\n",
    "\n",
    "plt.imshow(digit, cmap=plt.cm.binary)\n",
    "#imshow = image show 이미지 출력.\n",
    "#cmap = color map 색상 설정 : https://matplotlib.org/stable/tutorials/colors/colormaps.html document"
   ]
  },
  {
   "cell_type": "code",
   "execution_count": 123,
   "id": "11e57d6c",
   "metadata": {
    "ExecuteTime": {
     "end_time": "2022-04-17T06:37:21.425157Z",
     "start_time": "2022-04-17T06:37:21.420878Z"
    },
    "scrolled": true
   },
   "outputs": [
    {
     "data": {
      "text/plain": [
       "(90, 28, 28)"
      ]
     },
     "execution_count": 123,
     "metadata": {},
     "output_type": "execute_result"
    }
   ],
   "source": [
    "#슬라이싱\n",
    "\n",
    "my_slice = train_images[10:100] # 11~100 index\n",
    "my_slice\n",
    "my_slice.shape"
   ]
  },
  {
   "cell_type": "code",
   "execution_count": 124,
   "id": "b16082bd",
   "metadata": {
    "ExecuteTime": {
     "end_time": "2022-04-17T06:38:30.166203Z",
     "start_time": "2022-04-17T06:38:30.162152Z"
    }
   },
   "outputs": [
    {
     "data": {
      "text/plain": [
       "(90, 28, 28)"
      ]
     },
     "execution_count": 124,
     "metadata": {},
     "output_type": "execute_result"
    }
   ],
   "source": [
    "my_slice2 = train_images[10:100, :, :]\n",
    "my_slice2.shape"
   ]
  },
  {
   "cell_type": "code",
   "execution_count": 125,
   "id": "e1a73908",
   "metadata": {
    "ExecuteTime": {
     "end_time": "2022-04-17T06:38:55.462879Z",
     "start_time": "2022-04-17T06:38:55.458452Z"
    }
   },
   "outputs": [
    {
     "data": {
      "text/plain": [
       "(90, 27, 27)"
      ]
     },
     "execution_count": 125,
     "metadata": {},
     "output_type": "execute_result"
    }
   ],
   "source": [
    "my_slice3 = train_images[10:100, 0:27, 0:27]\n",
    "my_slice3.shape"
   ]
  },
  {
   "cell_type": "code",
   "execution_count": 126,
   "id": "38744f08",
   "metadata": {
    "ExecuteTime": {
     "end_time": "2022-04-17T06:48:05.340907Z",
     "start_time": "2022-04-17T06:48:05.336112Z"
    }
   },
   "outputs": [
    {
     "data": {
      "text/plain": [
       "(128, 28, 28)"
      ]
     },
     "execution_count": 126,
     "metadata": {},
     "output_type": "execute_result"
    }
   ],
   "source": [
    "# 배치 \n",
    "\n",
    "batch = train_images[:128]\n",
    "batch.shape\n",
    "# 의미 해석 : train_set 의 첫 번째~128번째 이미지 까지 묶은 batch"
   ]
  },
  {
   "cell_type": "code",
   "execution_count": 129,
   "id": "638fd5a0",
   "metadata": {
    "ExecuteTime": {
     "end_time": "2022-04-17T06:49:33.911604Z",
     "start_time": "2022-04-17T06:49:33.907653Z"
    }
   },
   "outputs": [
    {
     "data": {
      "text/plain": [
       "(28, 28)"
      ]
     },
     "execution_count": 129,
     "metadata": {},
     "output_type": "execute_result"
    }
   ],
   "source": [
    "train_images[127].shape\n",
    "# train_set 에서 127번째 이미지만 선택."
   ]
  },
  {
   "cell_type": "code",
   "execution_count": 130,
   "id": "2225ec2a",
   "metadata": {
    "ExecuteTime": {
     "end_time": "2022-04-17T06:51:19.197509Z",
     "start_time": "2022-04-17T06:51:19.193090Z"
    }
   },
   "outputs": [
    {
     "data": {
      "text/plain": [
       "(128, 28, 28)"
      ]
     },
     "execution_count": 130,
     "metadata": {},
     "output_type": "execute_result"
    }
   ],
   "source": [
    "batch = train_images[128:256]\n",
    "batch.shape"
   ]
  },
  {
   "cell_type": "markdown",
   "id": "4a9306d8",
   "metadata": {},
   "source": [
    "## 신경망-수학적 배경지식"
   ]
  },
  {
   "cell_type": "markdown",
   "id": "6ccc649d",
   "metadata": {},
   "source": [
    "### 텐서 연산 - np.dot()"
   ]
  },
  {
   "cell_type": "code",
   "execution_count": 132,
   "id": "8dd93726",
   "metadata": {
    "ExecuteTime": {
     "end_time": "2022-04-24T04:20:52.800387Z",
     "start_time": "2022-04-24T04:20:52.790980Z"
    }
   },
   "outputs": [
    {
     "data": {
      "text/plain": [
       "8"
      ]
     },
     "execution_count": 132,
     "metadata": {},
     "output_type": "execute_result"
    }
   ],
   "source": [
    "'''\n",
    "    numpy dot(x, y) : \n",
    "        \n",
    "        내적 행렬 곱 연산\n",
    "    \n",
    "'''\n",
    "# 1차원*1차원 내적\n",
    "\n",
    "a = [1,2]\n",
    "b = [2,3]\n",
    "np.dot(a, b)"
   ]
  },
  {
   "cell_type": "code",
   "execution_count": 135,
   "id": "087bae09",
   "metadata": {
    "ExecuteTime": {
     "end_time": "2022-04-24T04:21:28.025865Z",
     "start_time": "2022-04-24T04:21:28.020411Z"
    }
   },
   "outputs": [
    {
     "data": {
      "text/plain": [
       "array([[10,  6],\n",
       "       [14, 12]])"
      ]
     },
     "execution_count": 135,
     "metadata": {},
     "output_type": "execute_result"
    }
   ],
   "source": [
    "# 2차원*2차원 내적\n",
    "\n",
    "a = np.array([[1, 3], [2, 4]])\n",
    "b = np.array([[1, 6], [3, 0]])\n",
    "\n",
    "np.dot(a, b)"
   ]
  },
  {
   "cell_type": "code",
   "execution_count": 134,
   "id": "6cfd0bfa",
   "metadata": {
    "ExecuteTime": {
     "end_time": "2022-04-24T04:21:22.156601Z",
     "start_time": "2022-04-24T04:21:22.150797Z"
    }
   },
   "outputs": [
    {
     "data": {
      "text/plain": [
       "array([[[1, 4],\n",
       "        [0, 0]],\n",
       "\n",
       "       [[2, 6],\n",
       "        [0, 0]]])"
      ]
     },
     "execution_count": 134,
     "metadata": {},
     "output_type": "execute_result"
    }
   ],
   "source": [
    "# n차원*m차원 내적\n",
    "\n",
    "a = np.array([[1, 3], [2, 4]])\n",
    "b = np.array([[[1, 1], [0, 1]], [[0, 0], [0, 0]]])\n",
    "\n",
    "np.dot(a, b)"
   ]
  },
  {
   "cell_type": "markdown",
   "id": "a54a36ba",
   "metadata": {},
   "source": [
    "### 텐서 크기변환 - reshape() , transpose()"
   ]
  },
  {
   "cell_type": "code",
   "execution_count": 149,
   "id": "3b11f8ff",
   "metadata": {
    "ExecuteTime": {
     "end_time": "2022-04-24T04:32:12.601647Z",
     "start_time": "2022-04-24T04:32:12.598268Z"
    }
   },
   "outputs": [
    {
     "name": "stdout",
     "output_type": "stream",
     "text": [
      "(15,)\n",
      "(3, 5)\n"
     ]
    }
   ],
   "source": [
    "x = np.arange(15)\n",
    "print(x.shape)\n",
    "\n",
    "x = x.reshape((3,5))\n",
    "print(x.shape)\n"
   ]
  },
  {
   "cell_type": "code",
   "execution_count": 162,
   "id": "3e52c2ac",
   "metadata": {
    "ExecuteTime": {
     "end_time": "2022-04-24T04:35:04.551426Z",
     "start_time": "2022-04-24T04:35:04.546292Z"
    }
   },
   "outputs": [
    {
     "name": "stdout",
     "output_type": "stream",
     "text": [
      "[[0. 0. 0. 0. 0. 0.]\n",
      " [0. 0. 0. 0. 0. 0.]\n",
      " [0. 0. 0. 0. 0. 0.]\n",
      " ...\n",
      " [0. 0. 0. 0. 0. 0.]\n",
      " [0. 0. 0. 0. 0. 0.]\n",
      " [0. 0. 0. 0. 0. 0.]]\n"
     ]
    },
    {
     "data": {
      "text/plain": [
       "(300, 6)"
      ]
     },
     "execution_count": 162,
     "metadata": {},
     "output_type": "execute_result"
    }
   ],
   "source": [
    "# 전치\n",
    "\n",
    "a = np.zeros((300,6))\n",
    "print(a)\n",
    "a.shape"
   ]
  },
  {
   "cell_type": "code",
   "execution_count": 163,
   "id": "0997ba6f",
   "metadata": {
    "ExecuteTime": {
     "end_time": "2022-04-24T04:35:07.463039Z",
     "start_time": "2022-04-24T04:35:07.456688Z"
    }
   },
   "outputs": [
    {
     "name": "stdout",
     "output_type": "stream",
     "text": [
      "[[0. 0. 0. ... 0. 0. 0.]\n",
      " [0. 0. 0. ... 0. 0. 0.]\n",
      " [0. 0. 0. ... 0. 0. 0.]\n",
      " [0. 0. 0. ... 0. 0. 0.]\n",
      " [0. 0. 0. ... 0. 0. 0.]\n",
      " [0. 0. 0. ... 0. 0. 0.]]\n"
     ]
    },
    {
     "data": {
      "text/plain": [
       "(6, 300)"
      ]
     },
     "execution_count": 163,
     "metadata": {},
     "output_type": "execute_result"
    }
   ],
   "source": [
    "a = np.transpose(a)\n",
    "print(a)\n",
    "a.shape"
   ]
  },
  {
   "cell_type": "code",
   "execution_count": 165,
   "id": "4e2486d3",
   "metadata": {
    "ExecuteTime": {
     "end_time": "2022-04-24T04:35:25.091430Z",
     "start_time": "2022-04-24T04:35:25.087138Z"
    }
   },
   "outputs": [
    {
     "data": {
      "text/plain": [
       "(300, 6)"
      ]
     },
     "execution_count": 165,
     "metadata": {},
     "output_type": "execute_result"
    }
   ],
   "source": [
    "# 간단하게 T 로 사용할 수 있다.\n",
    "a.T.shape"
   ]
  },
  {
   "cell_type": "code",
   "execution_count": null,
   "id": "37bd72e6",
   "metadata": {},
   "outputs": [],
   "source": []
  },
  {
   "cell_type": "code",
   "execution_count": null,
   "id": "d0217859",
   "metadata": {},
   "outputs": [],
   "source": []
  },
  {
   "cell_type": "code",
   "execution_count": null,
   "id": "99221e52",
   "metadata": {},
   "outputs": [],
   "source": []
  },
  {
   "cell_type": "code",
   "execution_count": null,
   "id": "c92847f1",
   "metadata": {},
   "outputs": [],
   "source": []
  }
 ],
 "metadata": {
  "hide_input": false,
  "kernelspec": {
   "display_name": "Python 3 (ipykernel)",
   "language": "python",
   "name": "python3"
  },
  "language_info": {
   "codemirror_mode": {
    "name": "ipython",
    "version": 3
   },
   "file_extension": ".py",
   "mimetype": "text/x-python",
   "name": "python",
   "nbconvert_exporter": "python",
   "pygments_lexer": "ipython3",
   "version": "3.9.6"
  },
  "toc": {
   "base_numbering": 1,
   "nav_menu": {},
   "number_sections": true,
   "sideBar": true,
   "skip_h1_title": false,
   "title_cell": "Table of Contents",
   "title_sidebar": "Contents",
   "toc_cell": false,
   "toc_position": {},
   "toc_section_display": true,
   "toc_window_display": true
  },
  "varInspector": {
   "cols": {
    "lenName": 16,
    "lenType": 16,
    "lenVar": 40
   },
   "kernels_config": {
    "python": {
     "delete_cmd_postfix": "",
     "delete_cmd_prefix": "del ",
     "library": "var_list.py",
     "varRefreshCmd": "print(var_dic_list())"
    },
    "r": {
     "delete_cmd_postfix": ") ",
     "delete_cmd_prefix": "rm(",
     "library": "var_list.r",
     "varRefreshCmd": "cat(var_dic_list()) "
    }
   },
   "types_to_exclude": [
    "module",
    "function",
    "builtin_function_or_method",
    "instance",
    "_Feature"
   ],
   "window_display": false
  }
 },
 "nbformat": 4,
 "nbformat_minor": 5
}
